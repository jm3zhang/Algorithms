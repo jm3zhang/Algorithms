{
  "nbformat": 4,
  "nbformat_minor": 0,
  "metadata": {
    "colab": {
      "name": "3. tf-PSO-with-gradients.ipynb",
      "version": "0.3.2",
      "provenance": [],
      "collapsed_sections": [],
      "toc_visible": true
    },
    "kernelspec": {
      "name": "python3",
      "display_name": "Python 3"
    }
  },
  "cells": [
    {
      "cell_type": "markdown",
      "metadata": {
        "id": "5QltQJcQxvcV",
        "colab_type": "text"
      },
      "source": [
        "## Imports"
      ]
    },
    {
      "cell_type": "code",
      "metadata": {
        "id": "L-M2v3IPxtk7",
        "colab_type": "code",
        "colab": {}
      },
      "source": [
        "import itertools\n",
        "from functools import reduce\n",
        "import operator\n",
        "import tensorflow as tf\n",
        "import time\n",
        "import random\n",
        "import layers\n",
        "import math\n",
        "import argparse\n",
        "import parseutils as pu\n",
        "import utils\n",
        "import pandas as pd\n",
        "import numpy as np\n",
        "from layers import maxclip, fc\n",
        "# from utils import msgtime, str_memusage, print_prog_bar, fcn_stats\n",
        "import csv\n",
        "import matplotlib.pyplot as plt"
      ],
      "execution_count": 0,
      "outputs": []
    },
    {
      "cell_type": "code",
      "metadata": {
        "id": "q6Z8D4USxxrb",
        "colab_type": "code",
        "colab": {}
      },
      "source": [
        "# Set up random seeds\n",
        "seed = 1234\n",
        "np.random.seed(seed)\n",
        "tf.set_random_seed(seed)"
      ],
      "execution_count": 0,
      "outputs": []
    },
    {
      "cell_type": "markdown",
      "metadata": {
        "id": "1yvipj8Tx1fF",
        "colab_type": "text"
      },
      "source": [
        "##  Dataset Preparation"
      ]
    },
    {
      "cell_type": "code",
      "metadata": {
        "id": "3-XE7BAwx0Gt",
        "colab_type": "code",
        "colab": {}
      },
      "source": [
        "dataset = pd.read_csv('Iris_Dataset.csv')\n",
        "dataset = pd.get_dummies(dataset, columns=['Species']) # One Hot Encoding\n",
        "values = list(dataset.columns.values)"
      ],
      "execution_count": 0,
      "outputs": []
    },
    {
      "cell_type": "code",
      "metadata": {
        "id": "GYfw50erx8HF",
        "colab_type": "code",
        "colab": {}
      },
      "source": [
        "y = dataset[values[-3:]]\n",
        "y = np.array(y, dtype='float32')\n",
        "X = dataset[values[1:-3]]\n",
        "X = np.array(X, dtype='float32')"
      ],
      "execution_count": 0,
      "outputs": []
    },
    {
      "cell_type": "code",
      "metadata": {
        "id": "BqXlb9WtyGLb",
        "colab_type": "code",
        "colab": {}
      },
      "source": [
        "# Shuffle Data\n",
        "indices = np.random.choice(len(X), len(X), replace=False)\n",
        "X_values = X[indices]\n",
        "y_values = y[indices]"
      ],
      "execution_count": 0,
      "outputs": []
    },
    {
      "cell_type": "code",
      "metadata": {
        "id": "nXwP6ZCTyIr8",
        "colab_type": "code",
        "colab": {}
      },
      "source": [
        "# Creating a Train and a Test Dataset\n",
        "test_size = 50\n",
        "X_test = X_values[-test_size:]\n",
        "X_train = X_values[:-test_size]\n",
        "y_test = y_values[-test_size:]\n",
        "y_train = y_values[:-test_size]"
      ],
      "execution_count": 0,
      "outputs": []
    },
    {
      "cell_type": "markdown",
      "metadata": {
        "id": "5dUpriYyUHfi",
        "colab_type": "text"
      },
      "source": [
        "## Set up models"
      ]
    },
    {
      "cell_type": "code",
      "metadata": {
        "id": "dT_cxJF-Kij5",
        "colab_type": "code",
        "colab": {}
      },
      "source": [
        "base_config = dict(\n",
        "    N_IN = 4,                            # Number of Feature Inputs\n",
        "    N_BATCHSIZE = 32,                    # Batch size\n",
        "    N_PARTICLES = 32,                    # Number of Particles\n",
        "    G_BEST_FACTOR = 0.8,                 # Global Best for PSO\n",
        "    L_BEST_FACTOR = 0.7,                 # Local Best for PSO\n",
        "    P_BEST_FACTOR = 0.6,                 # Personal Best for PSO\n",
        "    VELOCITY_DECAY = 1,                  # Decay in velocity after each position update\n",
        "    MAX_VEL = 0.005,                     # Maximum velocity for a particle if restricted\n",
        "    MAX_VEL_DECAY = 1,                   # Multiplier for Max Velocity with each update\n",
        "    N_ITERATIONS = int(1e2),             # Number of iterations\n",
        "    HIDDEN_LAYERS = [3, 2],              # Hidden layer dim\n",
        "    LEARNING_RATE = 0.1,                  # Learning Rate\n",
        "\n",
        "    # Other Params for image similarity\n",
        "    c1=tf.constant(2.05,dtype=None,shape=None,name='c1'),\n",
        "    c2=tf.constant(2.05,dtype=None,shape=None,name='c2'),\n",
        "    chi = abs(2.0 / (2.0 - 4.1 - math.sqrt(4.1 * 4.1 - 4.0 * 4.1)))\n",
        "    )\n",
        "\n",
        "LAYERS = [base_config[\"N_IN\"]] + base_config[\"HIDDEN_LAYERS\"] + [3]\n",
        "t_VELOCITY_DECAY = tf.constant(value=base_config[\"VELOCITY_DECAY\"],\n",
        "                               dtype=tf.float32,\n",
        "                               name='vel_decay')\n",
        "t_MVEL = tf.Variable(base_config[\"MAX_VEL\"],\n",
        "                     dtype=tf.float32,\n",
        "                     name='vel_restrict')\n",
        "net_in = tf.placeholder(dtype=tf.float32,\n",
        "                        shape=[None, 4],\n",
        "                        name='net_in')\n",
        "label = tf.placeholder(dtype=tf.float32,\n",
        "                           shape=[None, 3],\n",
        "                           name='net_label')\n",
        "\n"
      ],
      "execution_count": 0,
      "outputs": []
    },
    {
      "cell_type": "code",
      "metadata": {
        "id": "4T8uVIbvYfuK",
        "colab_type": "code",
        "colab": {}
      },
      "source": [
        "# MULTI-PARTICLE NEURAL NETS\n",
        "losses = []\n",
        "nets = []\n",
        "pweights = []\n",
        "pbiases = []\n",
        "vweights = []\n",
        "vbiases = []\n",
        "pfitlist = []\n",
        "pweightslist=[]\n",
        "vweightslist=[]\n",
        "pbiaseslist=[]\n",
        "vbiaseslist=[]\n",
        "weightslist=[]\n",
        "biaseslist=[]\n",
        "netlist=[]\n",
        "len_weights=tf.placeholder(dtype=tf.int32,shape=[])\n",
        "random_values = []\n",
        "accuracy_updates=[]\n",
        "\n",
        "# Positional Updates\n",
        "bias_updates = []\n",
        "weight_updates = []\n",
        "\n",
        "# Velocity Updates\n",
        "vweight_updates = []\n",
        "vbias_updates = []\n",
        "\n",
        "# Fitness Updates\n",
        "fit_updates = []\n",
        "\n",
        "# Control Updates - Controling PSO inside tf.Graph\n",
        "control_updates = []\n",
        "\n",
        "# Hybrid Updates - Using of PSO + Traditional Approaches\n",
        "hybrid_updates = []\n",
        "\n",
        "# Global Best\n",
        "gweights = []\n",
        "gbiases = []\n",
        "gfit = tf.Variable(math.inf, name='gbestfit')\n",
        "\n",
        "# Local Best\n",
        "lweights= []\n",
        "lbiases =[]\n",
        "lfitlist=[]\n",
        "lweightslist=[]\n",
        "lbiaseslist=[]\n",
        "lbestindex = tf.Variable(math.inf, name='lbestindex')"
      ],
      "execution_count": 0,
      "outputs": []
    },
    {
      "cell_type": "code",
      "metadata": {
        "id": "WyV3-WCfYbw9",
        "colab_type": "code",
        "outputId": "8da12b44-c220-470a-dda9-59ade1b0bd88",
        "colab": {
          "base_uri": "https://localhost:8080/",
          "height": 173
        }
      },
      "source": [
        "for pno in range(base_config[\"N_PARTICLES\"]):\n",
        "    weights = []\n",
        "    biases = []\n",
        "    pweights = []\n",
        "    pbiases = []\n",
        "    pbestrand = tf.Variable(tf.random_uniform(\n",
        "        shape=[], maxval=base_config[\"P_BEST_FACTOR\"]),\n",
        "        name='pno' + str(pno + 1) + 'pbestrand')\n",
        "    gbestrand = tf.Variable(tf.random_uniform(\n",
        "    shape=[], maxval=base_config[\"G_BEST_FACTOR\"]),\n",
        "    name='pno' + str(pno + 1) + 'gbestrand')\n",
        "\n",
        "    # Append the random values so that the initializer can be called again\n",
        "    random_values.append(pbestrand)\n",
        "    random_values.append(gbestrand)\n",
        "    pfit = tf.Variable(math.inf, name='pno' + str(pno + 1) + 'fit')\n",
        "    net = net_in\n",
        "    # Define the parameters\n",
        "\n",
        "    for idx, num_neuron in enumerate(LAYERS[1:]):\n",
        "        layer_scope = 'pno' + str(pno + 1) + 'fc' + str(idx + 1)\n",
        "        net, pso_tupple = fc(input_tensor=net,\n",
        "                             n_output_units=num_neuron,\n",
        "                             activation_fn='sigmoid',\n",
        "                             scope=layer_scope,\n",
        "                             uniform=True)\n",
        "        w, b, pw, pb, vw, vb = pso_tupple\n",
        "        vweights.append(vw)\n",
        "        vbiases.append(vb)\n",
        "        vweightslist.append(pw)\n",
        "        vbiaseslist.append(pb)\n",
        "        weights.append(w)\n",
        "        weightslist.append(w)\n",
        "        biaseslist.append(b)\n",
        "        biases.append(b)\n",
        "        pweights.append(pw)\n",
        "        pbiases.append(pb)\n",
        "        pweightslist.append(pw)\n",
        "        pbiaseslist.append(pb)\n",
        "        netlist.append(net)\n",
        "        lw = tf.Variable(tf.random_uniform(\n",
        "                shape=[LAYERS[idx],LAYERS[idx+1]],\n",
        "                dtype=tf.float32),\n",
        "                name='lw')\n",
        "        lb = tf.Variable(tf.random_uniform(\n",
        "                shape=[LAYERS[idx+1]],\n",
        "                dtype=tf.float32),\n",
        "                name='lb')\n",
        "        lweightslist.append(lw)\n",
        "        lbiaseslist.append(lb)\n",
        "\n",
        "        nextvw = tf.multiply(vw, t_VELOCITY_DECAY)\n",
        "        nextvb = tf.multiply(vb, t_VELOCITY_DECAY)\n",
        "\n",
        "        # Differences between Particle Best & Current\n",
        "        pdiffw = tf.multiply(tf.subtract(pw, w), pbestrand)\n",
        "        pdiffb = tf.multiply(tf.subtract(pb, b), pbestrand)\n",
        "        # Define & Reuse the GBest\n",
        "        gw = None\n",
        "        gb = None\n",
        "        with tf.variable_scope(\"gbest\", reuse=tf.AUTO_REUSE):\n",
        "            gw = tf.get_variable(name='fc' + str(idx + 1) + 'w',\n",
        "                             shape=[LAYERS[idx], LAYERS[idx + 1]],\n",
        "                             initializer=tf.zeros_initializer)\n",
        "\n",
        "            gb = tf.get_variable(name='fc' + str(idx + 1) + 'b',\n",
        "                             shape=[LAYERS[idx + 1]],\n",
        "                             initializer=tf.zeros_initializer)\n",
        "\n",
        "        # If first Particle add to Global Else it is already present\n",
        "\n",
        "        if pno == 0:\n",
        "            gweights.append(gw)\n",
        "            gbiases.append(gb)\n",
        "\n",
        "        # Differences between Global Best & Current\n",
        "        gdiffw = tf.multiply(tf.subtract(gw, w), gbestrand)\n",
        "        gdiffb = tf.multiply(tf.subtract(gb, b), gbestrand)\n",
        "        vweight_update = None\n",
        "        vweight_update = tf.assign(vw,\n",
        "                                 tf.add_n([nextvw, pdiffw, gdiffw]),\n",
        "                                 validate_shape=True)\n",
        "       \n",
        "\n",
        "        vweight_updates.append(vweight_update)\n",
        "        vbias_update = None\n",
        "        vbias_update = tf.assign(vb,\n",
        "                                 tf.add_n([nextvb, pdiffb, gdiffb]),\n",
        "                                 validate_shape=True)\n",
        "        vbias_updates.append(vbias_update)\n",
        "        weight_update = tf.assign(w, w + vw, validate_shape=True)\n",
        "        weight_updates.append(weight_update)\n",
        "        bias_update = tf.assign(b, b + vb, validate_shape=True)\n",
        "        bias_updates.append(bias_update)\n",
        "\n",
        "\n",
        "    loss = tf.reduce_mean(-tf.reduce_sum(label* tf.log(net), axis=0))\n",
        "    correct_prediction = tf.equal(tf.argmax(net, 1), tf.argmax(label, 1))\n",
        "    accuracy = tf.reduce_mean(tf.cast(correct_prediction, tf.float32))\n",
        "    accuracy_updates.append(accuracy)\n",
        "    particlebest = tf.cond(loss < pfit, lambda: loss, lambda: pfit)\n",
        "    fit_update = tf.assign(pfit, particlebest, validate_shape=True)\n",
        "    fit_updates.append(fit_update)\n",
        "    globalbest = tf.cond(loss < gfit, lambda: loss, lambda: gfit)\n",
        "    fit_update = tf.assign(gfit, globalbest, validate_shape=True)\n",
        "    fit_updates.append(fit_update)\n",
        "    pfitlist.append(pfit)\n",
        "    control_update = tf.assign(t_MVEL, tf.multiply(t_MVEL,base_config[\"MAX_VEL_DECAY\"]),validate_shape=True)\n",
        "    control_updates.append(control_update)\n",
        "\n",
        "    optimizer = tf.train.AdamOptimizer(learning_rate=base_config[\"LEARNING_RATE\"])\n",
        "    hybrid_update = optimizer.minimize(loss)\n",
        "    hybrid_updates.append(hybrid_update)\n",
        "    assert len(weights) == len(biases)\n",
        "    assert len(gweights) == len(gbiases)\n",
        "    assert len(pweights) == len(pbiases)\n",
        "    assert len(gweights) == len(weights)\n",
        "    assert len(pweights) == len(weights)\n",
        "\n",
        "    for i in range(len(weights)):\n",
        "        # Particle Best\n",
        "        pweight = tf.cond(loss < pfit, lambda: weights[i], lambda: pweights[i])\n",
        "        fit_update = tf.assign(pweightslist[pno*len(weights)+i], pweight, validate_shape=True)\n",
        "        fit_update = tf.assign(pweights[i], pweight, validate_shape=True)\n",
        "        fit_updates.append(fit_update)\n",
        "        pbias = tf.cond(loss < pfit, lambda: biases[i], lambda: pbiases[i])\n",
        "        fit_update = tf.assign(pbiaseslist[pno*len(weights)+i], pbias, validate_shape=True)\n",
        "        fit_update = tf.assign(pbiases[i], pbias, validate_shape=True)\n",
        "        fit_updates.append(fit_update)\n",
        "\n",
        "        # Global Best\n",
        "        gweight = tf.cond(loss < gfit, lambda: weights[i], lambda: gweights[i])\n",
        "        netlist[0]=net\n",
        "        fit_update = tf.assign(gweights[i], gweight, validate_shape=True)\n",
        "\n",
        "        fit_updates.append(fit_update)\n",
        "        gbias = tf.cond(loss < gfit, lambda: biases[i], lambda: gbiases[i])\n",
        "        fit_update = tf.assign(gbiases[i], gbias, validate_shape=True)\n",
        "        fit_updates.append(fit_update)\n",
        "    nets.append(net)\n",
        "    losses.append(loss)\n",
        "    len_weights=len(weights)"
      ],
      "execution_count": 9,
      "outputs": [
        {
          "output_type": "stream",
          "text": [
            "WARNING: Logging before flag parsing goes to stderr.\n",
            "W0806 04:32:24.034538 140479858325376 deprecation_wrapper.py:119] From /content/layers.py:30: The name tf.variable_scope is deprecated. Please use tf.compat.v1.variable_scope instead.\n",
            "\n",
            "W0806 04:32:24.036924 140479858325376 deprecation_wrapper.py:119] From /content/layers.py:33: The name tf.random_uniform is deprecated. Please use tf.random.uniform instead.\n",
            "\n",
            "W0806 04:32:24.052582 140479858325376 deprecation.py:323] From /content/layers.py:50: Variable.initialized_value (from tensorflow.python.ops.variables) is deprecated and will be removed in a future version.\n",
            "Instructions for updating:\n",
            "Use Variable.read_value. Variables in 2.X are initialized automatically both in eager and graph (inside tf.defun) contexts.\n"
          ],
          "name": "stderr"
        }
      ]
    },
    {
      "cell_type": "code",
      "metadata": {
        "id": "CB-ERZxCUvcw",
        "colab_type": "code",
        "outputId": "25b08f00-c383-426b-c124-3e7c9086d125",
        "colab": {
          "base_uri": "https://localhost:8080/",
          "height": 405
        }
      },
      "source": [
        "vweights=[]\n",
        "vbiases=[]\n",
        "\n",
        "# Initialize the entire graph\n",
        "init = tf.global_variables_initializer()\n",
        "\n",
        "# Define the updates which are to be done before each iterations\n",
        "random_updates = [r.initializer for r in random_values]\n",
        "updates = weightslist + biaseslist + \\\n",
        "    random_updates + vbiaseslist + vweightslist + \\\n",
        "    fit_updates + control_updates + hybrid_updates + pweightslist + pbiaseslist\n",
        "req_list = losses, updates, gfit, gbiases, vweights, vbiases, gweights,accuracy_updates,nets\n",
        "original_nets=nets\n",
        "iter_list = []\n",
        "acc_list = []\n",
        "with tf.Session() as sess:\n",
        "    sess.run(init)\n",
        "    max_accuracy=0\n",
        "    for i in range(base_config[\"N_ITERATIONS\"]):\n",
        "        # Reinitialize the Random Values at each iteration\n",
        "        sess.run(hybrid_update,feed_dict={net_in: X_train, label: y_train})\n",
        "\n",
        "        _tuple = sess.run(req_list, feed_dict={\n",
        "            net_in: X_train, label: y_train})\n",
        "        _losses = None\n",
        "        _losses, _, gfit, gbiases, vweights, vbiases, gweights, accuracy_updates, nets = _tuple\n",
        "\n",
        "        if (i + 1) % 1 == 0:\n",
        "            iter_list.append(i+1)\n",
        "            if max(accuracy_updates)>max_accuracy:\n",
        "                max_accuracy=max(accuracy_updates)\n",
        "            acc_list.append(max_accuracy)\n",
        "        if (i + 1) % 50 == 0:\n",
        "          print('Iteration:', i+1,  '\\n', 'Losses:', _losses,)\n",
        "          print('accuracy', max_accuracy)\n",
        "\n",
        "    best_particle,_ = min(enumerate(_losses), key=operator.itemgetter(1))\n",
        "    \n",
        "    # Close the writer\n",
        "    plt.plot(iter_list, acc_list)\n",
        "    plt.xlabel(\"iterations\")\n",
        "    plt.ylabel(\"accuracy\")\n",
        "    plt.show()\n"
      ],
      "execution_count": 10,
      "outputs": [
        {
          "output_type": "stream",
          "text": [
            "Iteration: 50 \n",
            " Losses: [36.588604, 78.78354, 16.639221, 36.92377, 50.68547, 36.620285, 36.90539, 37.00072, 36.769096, 52.612488, 36.59885, 18.213428, 36.62853, 70.88398, 34.920208, 29.270243, 52.065723, 29.270773, 20.67732, 36.618633, 36.58134, 24.203867, 25.216177, 24.268969, 36.57679, 36.744274, 36.616764, 37.732784, 36.576687, 36.914433, 41.817806, 36.580444]\n",
            "accuracy 0.76\n",
            "Iteration: 100 \n",
            " Losses: [36.576874, 36.845123, 15.533658, 36.756092, 36.9913, 36.620296, 36.57796, 36.826458, 36.57757, 36.664276, 36.576954, 15.242507, 36.591824, 18.072151, 19.169968, 20.139517, 36.588814, 19.166136, 15.488833, 36.59936, 36.576683, 24.18041, 23.909662, 24.1913, 36.576656, 36.5777, 36.615868, 36.594376, 36.576664, 36.577, 36.623646, 36.57666]\n",
            "accuracy 0.76\n"
          ],
          "name": "stdout"
        },
        {
          "output_type": "display_data",
          "data": {
            "image/png": "[encoded data removed]",
            "text/plain": [
              "<Figure size 432x288 with 1 Axes>"
            ]
          },
          "metadata": {
            "tags": []
          }
        }
      ]
    },
    {
      "cell_type": "code",
      "metadata": {
        "id": "76UQXLN-xUXC",
        "colab_type": "code",
        "colab": {}
      },
      "source": [
        ""
      ],
      "execution_count": 0,
      "outputs": []
    }
  ]
}