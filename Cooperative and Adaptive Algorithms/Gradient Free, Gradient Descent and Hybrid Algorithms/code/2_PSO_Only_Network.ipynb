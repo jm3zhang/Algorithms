{
  "nbformat": 4,
  "nbformat_minor": 0,
  "metadata": {
    "colab": {
      "name": "2. PSO_Only_Network.ipynb",
      "version": "0.3.2",
      "provenance": []
    },
    "kernelspec": {
      "name": "python3",
      "display_name": "Python 3"
    },
    "accelerator": "GPU"
  },
  "cells": [
    {
      "cell_type": "code",
      "metadata": {
        "id": "PfPquff53Q21",
        "colab_type": "code",
        "outputId": "9187d540-6f81-4b9a-b71c-49d6b12b3e99",
        "colab": {
          "base_uri": "https://localhost:8080/",
          "height": 102
        }
      },
      "source": [
        "pip install sklearn"
      ],
      "execution_count": 0,
      "outputs": [
        {
          "output_type": "stream",
          "text": [
            "Requirement already satisfied: sklearn in /usr/local/lib/python3.6/dist-packages (0.0)\n",
            "Requirement already satisfied: scikit-learn in /usr/local/lib/python3.6/dist-packages (from sklearn) (0.21.3)\n",
            "Requirement already satisfied: scipy>=0.17.0 in /usr/local/lib/python3.6/dist-packages (from scikit-learn->sklearn) (1.3.0)\n",
            "Requirement already satisfied: joblib>=0.11 in /usr/local/lib/python3.6/dist-packages (from scikit-learn->sklearn) (0.13.2)\n",
            "Requirement already satisfied: numpy>=1.11.0 in /usr/local/lib/python3.6/dist-packages (from scikit-learn->sklearn) (1.16.4)\n"
          ],
          "name": "stdout"
        }
      ]
    },
    {
      "cell_type": "code",
      "metadata": {
        "id": "bOjZTmm1KcsI",
        "colab_type": "code",
        "outputId": "2bfe5e5e-c6a4-4aeb-8c0f-99c70d93a7ca",
        "colab": {
          "base_uri": "https://localhost:8080/",
          "height": 173
        }
      },
      "source": [
        "pip install matplotlib"
      ],
      "execution_count": 0,
      "outputs": [
        {
          "output_type": "stream",
          "text": [
            "Requirement already satisfied: matplotlib in /usr/local/lib/python3.6/dist-packages (3.0.3)\n",
            "Requirement already satisfied: pyparsing!=2.0.4,!=2.1.2,!=2.1.6,>=2.0.1 in /usr/local/lib/python3.6/dist-packages (from matplotlib) (2.4.2)\n",
            "Requirement already satisfied: numpy>=1.10.0 in /usr/local/lib/python3.6/dist-packages (from matplotlib) (1.16.4)\n",
            "Requirement already satisfied: kiwisolver>=1.0.1 in /usr/local/lib/python3.6/dist-packages (from matplotlib) (1.1.0)\n",
            "Requirement already satisfied: cycler>=0.10 in /usr/local/lib/python3.6/dist-packages (from matplotlib) (0.10.0)\n",
            "Requirement already satisfied: python-dateutil>=2.1 in /usr/local/lib/python3.6/dist-packages (from matplotlib) (2.5.3)\n",
            "Requirement already satisfied: setuptools in /usr/local/lib/python3.6/dist-packages (from kiwisolver>=1.0.1->matplotlib) (41.0.1)\n",
            "Requirement already satisfied: six in /usr/local/lib/python3.6/dist-packages (from cycler>=0.10->matplotlib) (1.12.0)\n"
          ],
          "name": "stdout"
        }
      ]
    },
    {
      "cell_type": "code",
      "metadata": {
        "id": "xCFF7yWa1_aD",
        "colab_type": "code",
        "colab": {}
      },
      "source": [
        "import numpy as np\n",
        "import functools\n",
        "import sklearn.metrics\n",
        "import sklearn.datasets\n",
        "import sklearn.model_selection\n",
        "import numpy as np\n",
        "import numpy.random\n",
        "import matplotlib.pyplot as plt"
      ],
      "execution_count": 0,
      "outputs": []
    },
    {
      "cell_type": "code",
      "metadata": {
        "id": "DSHS1nk72d-_",
        "colab_type": "code",
        "colab": {}
      },
      "source": [
        "class ParticleSwarm:\n",
        "    def __init__(self, cost_func, dim, particle_size=32, chi=0.75, phi_prev=2.05, phi_global=2.05):\n",
        "        self.cost_func = cost_func\n",
        "        self.dim = dim\n",
        "\n",
        "        self.particle_size = particle_size\n",
        "        self.chi = chi\n",
        "        self.phi_prev = phi_prev\n",
        "        self.phi_global = phi_global\n",
        "\n",
        "        self.X = np.random.uniform(size=(self.particle_size, self.dim))\n",
        "        self.V = np.random.uniform(size=(self.particle_size, self.dim))\n",
        "\n",
        "        self.prev = self.X.copy()\n",
        "        self.cost = self.cost_func(self.X)\n",
        "        self.glob = self.prev[self.cost.argmin()]\n",
        "        self.min_cost = self.cost.min()\n",
        "\n",
        "    def optimize(self, epsilon=1e-3, max_iter=100):\n",
        "        iteration = 0\n",
        "        while self.min_cost > epsilon and iteration < max_iter:\n",
        "            self.update()\n",
        "            iteration = iteration + 1\n",
        "        return self.g\n",
        "\n",
        "    def update(self):\n",
        "        # Velocities update\n",
        "        random_prev = np.random.uniform(size=(self.particle_size, self.dim))\n",
        "        random_global = np.random.uniform(size=(self.particle_size, self.dim))\n",
        "\n",
        "        self.V = self.chi * (self.V \\\n",
        "                + self.phi_prev * random_prev * (self.prev - self.X) \\\n",
        "                + self.phi_global * random_global * (self.glob - self.X))\n",
        "\n",
        "        # Positions update\n",
        "        self.X = self.X + self.V\n",
        "\n",
        "        # Best scores\n",
        "        costs = self.cost_func(self.X)\n",
        "\n",
        "        min_costs_id = costs < self.cost\n",
        "        self.prev[min_costs_id] = self.X[min_costs_id]\n",
        "        self.cost[min_costs_id] = costs[min_costs_id]\n",
        "\n",
        "        self.glob = self.prev[self.cost.argmin()]\n",
        "        self.min_cost = self.cost.min()"
      ],
      "execution_count": 0,
      "outputs": []
    },
    {
      "cell_type": "code",
      "metadata": {
        "id": "BprtsSF82PDt",
        "colab_type": "code",
        "colab": {}
      },
      "source": [
        "class MultiLayerPerceptron:\n",
        "    def __init__(self, shape, weights=None):\n",
        "        self.shape = shape\n",
        "        self.num_layers = len(shape)\n",
        "        if weights is None:\n",
        "            self.weights = []\n",
        "            for i in xrange(self.num_layers-1):\n",
        "                W = np.random.uniform(size=(self.shape[i+1], self.shape[i] + 1))\n",
        "                self.weights.append(W)\n",
        "        else:\n",
        "            self.weights = weights\n",
        "\n",
        "\n",
        "    def run(self, data):\n",
        "        layer = data.T\n",
        "        for i in range(self.num_layers-1):\n",
        "            prev_layer = np.insert(layer, 0, 1, axis=0)\n",
        "            o = np.dot(self.weights[i], prev_layer)\n",
        "            layer = 1 / (1 + np.exp(-o))  # overflow comes from here\n",
        "        return layer"
      ],
      "execution_count": 0,
      "outputs": []
    },
    {
      "cell_type": "code",
      "metadata": {
        "id": "SGleXjV7lVuh",
        "colab_type": "code",
        "colab": {}
      },
      "source": [
        "def dim_weights(shape):\n",
        "    dim = 0\n",
        "    for i in range(len(shape)-1):\n",
        "        dim = dim + (shape[i] + 1) * shape[i+1]\n",
        "    return dim\n",
        "\n",
        "def vector_to_weights(vector, shape):\n",
        "    weights = []\n",
        "    idx = 0\n",
        "    for i in range(len(shape)-1):\n",
        "        r = shape[i+1]\n",
        "        c = shape[i] + 1\n",
        "        idx_min = idx\n",
        "        idx_max = idx + r*c\n",
        "        weight = vector[idx_min:idx_max].reshape(r, c)\n",
        "        weights.append(weight)\n",
        "    return weights\n",
        "\n",
        "def eval_neural_network(weights, shape, X, y):\n",
        "    mse = np.asarray([])\n",
        "    for w in weights:\n",
        "        weights = vector_to_weights(w, shape)\n",
        "        network = MultiLayerPerceptron(shape, weights=weights)\n",
        "        y_pred = network.run(X)\n",
        "        mse = np.append(mse, sklearn.metrics.mean_squared_error(np.atleast_2d(y), y_pred))\n",
        "    return mse"
      ],
      "execution_count": 0,
      "outputs": []
    },
    {
      "cell_type": "code",
      "metadata": {
        "id": "qQx7W22G2H8y",
        "colab_type": "code",
        "outputId": "c4d63063-d40a-43f3-88e4-fd2e8963e225",
        "colab": {
          "base_uri": "https://localhost:8080/",
          "height": 1000
        }
      },
      "source": [
        "if __name__ == '__main__':\n",
        "\n",
        "    # load iris datasets\n",
        "    iris = sklearn.datasets.load_iris()\n",
        "    X_train, X_eval, y_train, y_eval = sklearn.model_selection.train_test_split(iris.data, iris.target)\n",
        "\n",
        "    num_inputs = X_train.shape[1]\n",
        "    \n",
        "    num_classes = 3\n",
        "    y_train_true = np.zeros((len(y_train), num_classes))\n",
        "    for i in range(len(y_train)):\n",
        "        y_train_true[i, y_train[i]] = 1\n",
        "\n",
        "    y_eval_true = np.zeros((len(y_eval), num_classes))\n",
        "    for i in range(len(y_eval)):\n",
        "        y_eval_true[i, y_eval[i]] = 1\n",
        "\n",
        "    # Set up\n",
        "    shape = (num_inputs, 64, 32, num_classes)\n",
        "\n",
        "    cost_func = functools.partial(eval_neural_network, shape=shape, X=X_train, y=y_train_true.T)\n",
        "    \n",
        "    swarm = ParticleSwarm(cost_func, dim=dim_weights(shape), particle_size=60, chi=0.75, phi_prev=2.05, phi_global=2.05)\n",
        "\n",
        "    batch_list = []\n",
        "    acc_list = []\n",
        "    \n",
        "    # Train\n",
        "    i = 0\n",
        "    best_scores = [(i, swarm.min_cost)]\n",
        "    best_weights = vector_to_weights(swarm.glob, shape)\n",
        "    best_network = MultiLayerPerceptron(shape, weights=best_weights)\n",
        "    y_train_pred = np.round(best_network.run(X_train))\n",
        "    accuracy = sklearn.metrics.accuracy_score(y_train_true, y_train_pred.T)\n",
        "    batch_list.append(i)\n",
        "    acc_list.append(accuracy)\n",
        "    while swarm.min_cost > 1e-6 and i<500:\n",
        "        swarm.update()\n",
        "        i = i+1\n",
        "        if swarm.min_cost < best_scores[-1][1]:\n",
        "            best_scores.append((i, swarm.min_cost))\n",
        "        \n",
        "        # Eval on train set to get accuracy\n",
        "        best_weights = vector_to_weights(swarm.glob, shape)\n",
        "        best_network = MultiLayerPerceptron(shape, weights=best_weights)\n",
        "        y_train_pred = np.round(best_network.run(X_train))\n",
        "        accuracy = sklearn.metrics.accuracy_score(y_train_true, y_train_pred.T)\n",
        "        batch_list.append(i)\n",
        "        acc_list.append(accuracy)\n",
        "        print('At batch {0}, the accuracy is {1}'.format(i, accuracy))\n",
        "    \n",
        "    # Eval\n",
        "    best_weights = vector_to_weights(swarm.glob, shape)\n",
        "    best_network = MultiLayerPerceptron(shape, weights=best_weights)\n",
        "    y_eval_pred = np.round(best_network.run(X_eval))\n",
        "    accuracy = sklearn.metrics.accuracy_score(y_eval_true, y_eval_pred.T)\n",
        "    print('The final accuracy on eval set is:', accuracy)\n",
        "    \n",
        "    fig = plt.figure()\n",
        "    sub = fig.add_subplot(111)\n",
        "    sub.set_xlabel('iterations')\n",
        "    sub.set_ylabel('accuracy')\n",
        "    sub.plot(batch_list, acc_list)\n",
        "    plt.show()\n",
        "    "
      ],
      "execution_count": 0,
      "outputs": [
        {
          "output_type": "stream",
          "text": [
            "At batch 1, the accuracy is 0.0\n",
            "At batch 2, the accuracy is 0.0\n",
            "At batch 3, the accuracy is 0.0\n",
            "At batch 4, the accuracy is 0.35714285714285715\n",
            "At batch 5, the accuracy is 0.35714285714285715\n",
            "At batch 6, the accuracy is 0.25\n",
            "At batch 7, the accuracy is 0.35714285714285715\n",
            "At batch 8, the accuracy is 0.7053571428571429\n",
            "At batch 9, the accuracy is 0.7053571428571429\n",
            "At batch 10, the accuracy is 0.7053571428571429\n",
            "At batch 11, the accuracy is 0.7053571428571429\n",
            "At batch 12, the accuracy is 0.7053571428571429\n",
            "At batch 13, the accuracy is 0.7053571428571429\n",
            "At batch 14, the accuracy is 0.7589285714285714\n",
            "At batch 15, the accuracy is 0.7589285714285714\n",
            "At batch 16, the accuracy is 0.7589285714285714\n",
            "At batch 17, the accuracy is 0.7589285714285714\n",
            "At batch 18, the accuracy is 0.7589285714285714\n",
            "At batch 19, the accuracy is 0.7589285714285714\n",
            "At batch 20, the accuracy is 0.7589285714285714\n",
            "At batch 21, the accuracy is 0.7589285714285714\n",
            "At batch 22, the accuracy is 0.7589285714285714\n",
            "At batch 23, the accuracy is 0.7589285714285714\n",
            "At batch 24, the accuracy is 0.7589285714285714\n",
            "At batch 25, the accuracy is 0.7589285714285714\n",
            "At batch 26, the accuracy is 0.7589285714285714\n",
            "At batch 27, the accuracy is 0.7589285714285714\n",
            "At batch 28, the accuracy is 0.7589285714285714\n",
            "At batch 29, the accuracy is 0.7589285714285714\n",
            "At batch 30, the accuracy is 0.7589285714285714\n",
            "At batch 31, the accuracy is 0.7589285714285714\n",
            "At batch 32, the accuracy is 0.7589285714285714\n",
            "At batch 33, the accuracy is 0.7589285714285714\n",
            "At batch 34, the accuracy is 0.7589285714285714\n",
            "At batch 35, the accuracy is 0.7589285714285714\n",
            "At batch 36, the accuracy is 0.7589285714285714\n",
            "At batch 37, the accuracy is 0.7589285714285714\n",
            "At batch 38, the accuracy is 0.7589285714285714\n",
            "At batch 39, the accuracy is 0.8392857142857143\n",
            "At batch 40, the accuracy is 0.8392857142857143\n",
            "At batch 41, the accuracy is 0.9017857142857143\n",
            "At batch 42, the accuracy is 0.9017857142857143\n",
            "At batch 43, the accuracy is 0.9017857142857143\n",
            "At batch 44, the accuracy is 0.9017857142857143\n",
            "At batch 45, the accuracy is 0.9017857142857143\n",
            "At batch 46, the accuracy is 0.9017857142857143\n",
            "At batch 47, the accuracy is 0.9107142857142857\n",
            "At batch 48, the accuracy is 0.9107142857142857\n",
            "At batch 49, the accuracy is 0.9107142857142857\n",
            "At batch 50, the accuracy is 0.9107142857142857\n",
            "At batch 51, the accuracy is 0.9107142857142857\n",
            "At batch 52, the accuracy is 0.9196428571428571\n",
            "At batch 53, the accuracy is 0.9196428571428571\n",
            "At batch 54, the accuracy is 0.9196428571428571\n",
            "At batch 55, the accuracy is 0.9196428571428571\n",
            "At batch 56, the accuracy is 0.9196428571428571\n",
            "At batch 57, the accuracy is 0.9196428571428571\n",
            "At batch 58, the accuracy is 0.9196428571428571\n",
            "At batch 59, the accuracy is 0.9196428571428571\n",
            "At batch 60, the accuracy is 0.9196428571428571\n",
            "At batch 61, the accuracy is 0.9196428571428571\n",
            "At batch 62, the accuracy is 0.9107142857142857\n",
            "At batch 63, the accuracy is 0.9107142857142857\n",
            "At batch 64, the accuracy is 0.9107142857142857\n",
            "At batch 65, the accuracy is 0.9107142857142857\n",
            "At batch 66, the accuracy is 0.9107142857142857\n",
            "At batch 67, the accuracy is 0.9107142857142857\n",
            "At batch 68, the accuracy is 0.9107142857142857\n",
            "At batch 69, the accuracy is 0.9107142857142857\n",
            "At batch 70, the accuracy is 0.9107142857142857\n",
            "At batch 71, the accuracy is 0.9107142857142857\n",
            "At batch 72, the accuracy is 0.9107142857142857\n",
            "At batch 73, the accuracy is 0.9107142857142857\n",
            "At batch 74, the accuracy is 0.9107142857142857\n",
            "At batch 75, the accuracy is 0.9107142857142857\n",
            "At batch 76, the accuracy is 0.9107142857142857\n",
            "At batch 77, the accuracy is 0.9107142857142857\n",
            "At batch 78, the accuracy is 0.9107142857142857\n",
            "At batch 79, the accuracy is 0.9107142857142857\n",
            "At batch 80, the accuracy is 0.9107142857142857\n",
            "At batch 81, the accuracy is 0.9107142857142857\n",
            "At batch 82, the accuracy is 0.9107142857142857\n",
            "At batch 83, the accuracy is 0.8928571428571429\n",
            "At batch 84, the accuracy is 0.8928571428571429\n",
            "At batch 85, the accuracy is 0.8928571428571429\n",
            "At batch 86, the accuracy is 0.8928571428571429\n",
            "At batch 87, the accuracy is 0.8928571428571429\n",
            "At batch 88, the accuracy is 0.8928571428571429\n",
            "At batch 89, the accuracy is 0.8928571428571429\n",
            "At batch 90, the accuracy is 0.8928571428571429\n",
            "At batch 91, the accuracy is 0.8928571428571429\n",
            "At batch 92, the accuracy is 0.8928571428571429\n",
            "At batch 93, the accuracy is 0.8928571428571429\n",
            "At batch 94, the accuracy is 0.8928571428571429\n"
          ],
          "name": "stdout"
        },
        {
          "output_type": "stream",
          "text": [
            "/usr/local/lib/python3.6/dist-packages/ipykernel_launcher.py:19: RuntimeWarning: overflow encountered in exp\n",
            "/usr/local/lib/python3.6/dist-packages/ipykernel_launcher.py:19: RuntimeWarning: overflow encountered in exp\n"
          ],
          "name": "stderr"
        },
        {
          "output_type": "stream",
          "text": [
            "At batch 95, the accuracy is 0.8928571428571429\n",
            "At batch 96, the accuracy is 0.8928571428571429\n",
            "At batch 97, the accuracy is 0.8928571428571429\n",
            "At batch 98, the accuracy is 0.8928571428571429\n",
            "At batch 99, the accuracy is 0.8928571428571429\n",
            "At batch 100, the accuracy is 0.8928571428571429\n",
            "At batch 101, the accuracy is 0.8928571428571429\n",
            "At batch 102, the accuracy is 0.8928571428571429\n",
            "At batch 103, the accuracy is 0.8928571428571429\n",
            "At batch 104, the accuracy is 0.8928571428571429\n"
          ],
          "name": "stdout"
        },
        {
          "output_type": "stream",
          "text": [
            "/usr/local/lib/python3.6/dist-packages/ipykernel_launcher.py:19: RuntimeWarning: overflow encountered in exp\n",
            "/usr/local/lib/python3.6/dist-packages/ipykernel_launcher.py:19: RuntimeWarning: overflow encountered in exp\n",
            "/usr/local/lib/python3.6/dist-packages/ipykernel_launcher.py:19: RuntimeWarning: overflow encountered in exp\n",
            "/usr/local/lib/python3.6/dist-packages/ipykernel_launcher.py:19: RuntimeWarning: overflow encountered in exp\n"
          ],
          "name": "stderr"
        },
        {
          "output_type": "stream",
          "text": [
            "At batch 105, the accuracy is 0.9017857142857143\n",
            "At batch 106, the accuracy is 0.9017857142857143\n",
            "At batch 107, the accuracy is 0.9017857142857143\n",
            "At batch 108, the accuracy is 0.9017857142857143\n",
            "At batch 109, the accuracy is 0.9017857142857143\n"
          ],
          "name": "stdout"
        },
        {
          "output_type": "stream",
          "text": [
            "/usr/local/lib/python3.6/dist-packages/ipykernel_launcher.py:19: RuntimeWarning: overflow encountered in exp\n",
            "/usr/local/lib/python3.6/dist-packages/ipykernel_launcher.py:19: RuntimeWarning: overflow encountered in exp\n"
          ],
          "name": "stderr"
        },
        {
          "output_type": "stream",
          "text": [
            "At batch 110, the accuracy is 0.9017857142857143\n",
            "At batch 111, the accuracy is 0.9017857142857143\n",
            "At batch 112, the accuracy is 0.9017857142857143\n",
            "At batch 113, the accuracy is 0.9017857142857143\n",
            "At batch 114, the accuracy is 0.9017857142857143\n"
          ],
          "name": "stdout"
        },
        {
          "output_type": "stream",
          "text": [
            "/usr/local/lib/python3.6/dist-packages/ipykernel_launcher.py:19: RuntimeWarning: overflow encountered in exp\n",
            "/usr/local/lib/python3.6/dist-packages/ipykernel_launcher.py:19: RuntimeWarning: overflow encountered in exp\n"
          ],
          "name": "stderr"
        },
        {
          "output_type": "stream",
          "text": [
            "At batch 115, the accuracy is 0.9017857142857143\n",
            "At batch 116, the accuracy is 0.9017857142857143\n",
            "At batch 117, the accuracy is 0.9017857142857143\n",
            "At batch 118, the accuracy is 0.9017857142857143\n",
            "At batch 119, the accuracy is 0.9017857142857143\n"
          ],
          "name": "stdout"
        },
        {
          "output_type": "stream",
          "text": [
            "/usr/local/lib/python3.6/dist-packages/ipykernel_launcher.py:19: RuntimeWarning: overflow encountered in exp\n",
            "/usr/local/lib/python3.6/dist-packages/ipykernel_launcher.py:19: RuntimeWarning: overflow encountered in exp\n",
            "/usr/local/lib/python3.6/dist-packages/ipykernel_launcher.py:19: RuntimeWarning: overflow encountered in exp\n"
          ],
          "name": "stderr"
        },
        {
          "output_type": "stream",
          "text": [
            "At batch 120, the accuracy is 0.9017857142857143\n",
            "At batch 121, the accuracy is 0.9017857142857143\n",
            "At batch 122, the accuracy is 0.9017857142857143\n",
            "At batch 123, the accuracy is 0.9017857142857143\n",
            "At batch 124, the accuracy is 0.9017857142857143\n"
          ],
          "name": "stdout"
        },
        {
          "output_type": "stream",
          "text": [
            "/usr/local/lib/python3.6/dist-packages/ipykernel_launcher.py:19: RuntimeWarning: overflow encountered in exp\n",
            "/usr/local/lib/python3.6/dist-packages/ipykernel_launcher.py:19: RuntimeWarning: overflow encountered in exp\n"
          ],
          "name": "stderr"
        },
        {
          "output_type": "stream",
          "text": [
            "At batch 125, the accuracy is 0.9017857142857143\n",
            "At batch 126, the accuracy is 0.9017857142857143\n",
            "At batch 127, the accuracy is 0.9017857142857143\n",
            "At batch 128, the accuracy is 0.9017857142857143\n",
            "At batch 129, the accuracy is 0.9017857142857143\n"
          ],
          "name": "stdout"
        },
        {
          "output_type": "stream",
          "text": [
            "/usr/local/lib/python3.6/dist-packages/ipykernel_launcher.py:19: RuntimeWarning: overflow encountered in exp\n",
            "/usr/local/lib/python3.6/dist-packages/ipykernel_launcher.py:19: RuntimeWarning: overflow encountered in exp\n"
          ],
          "name": "stderr"
        },
        {
          "output_type": "stream",
          "text": [
            "At batch 130, the accuracy is 0.9017857142857143\n",
            "At batch 131, the accuracy is 0.9017857142857143\n",
            "At batch 132, the accuracy is 0.9017857142857143\n",
            "At batch 133, the accuracy is 0.9017857142857143\n",
            "At batch 134, the accuracy is 0.9017857142857143\n",
            "At batch 135, the accuracy is 0.9017857142857143\n",
            "At batch 136, the accuracy is 0.9017857142857143\n",
            "At batch 137, the accuracy is 0.9017857142857143\n",
            "At batch 138, the accuracy is 0.9017857142857143\n",
            "At batch 139, the accuracy is 0.9017857142857143\n"
          ],
          "name": "stdout"
        },
        {
          "output_type": "stream",
          "text": [
            "/usr/local/lib/python3.6/dist-packages/ipykernel_launcher.py:19: RuntimeWarning: overflow encountered in exp\n",
            "/usr/local/lib/python3.6/dist-packages/ipykernel_launcher.py:19: RuntimeWarning: overflow encountered in exp\n"
          ],
          "name": "stderr"
        },
        {
          "output_type": "stream",
          "text": [
            "At batch 140, the accuracy is 0.9017857142857143\n",
            "At batch 141, the accuracy is 0.9017857142857143\n",
            "At batch 142, the accuracy is 0.9017857142857143\n",
            "At batch 143, the accuracy is 0.9017857142857143\n",
            "At batch 144, the accuracy is 0.9017857142857143\n",
            "At batch 145, the accuracy is 0.9017857142857143\n",
            "At batch 146, the accuracy is 0.9017857142857143\n",
            "At batch 147, the accuracy is 0.9017857142857143\n",
            "At batch 148, the accuracy is 0.9017857142857143\n",
            "At batch 149, the accuracy is 0.9017857142857143\n"
          ],
          "name": "stdout"
        },
        {
          "output_type": "stream",
          "text": [
            "/usr/local/lib/python3.6/dist-packages/ipykernel_launcher.py:19: RuntimeWarning: overflow encountered in exp\n",
            "/usr/local/lib/python3.6/dist-packages/ipykernel_launcher.py:19: RuntimeWarning: overflow encountered in exp\n",
            "/usr/local/lib/python3.6/dist-packages/ipykernel_launcher.py:19: RuntimeWarning: overflow encountered in exp\n",
            "/usr/local/lib/python3.6/dist-packages/ipykernel_launcher.py:19: RuntimeWarning: overflow encountered in exp\n",
            "/usr/local/lib/python3.6/dist-packages/ipykernel_launcher.py:19: RuntimeWarning: overflow encountered in exp\n"
          ],
          "name": "stderr"
        },
        {
          "output_type": "stream",
          "text": [
            "At batch 150, the accuracy is 0.9017857142857143\n",
            "At batch 151, the accuracy is 0.9017857142857143\n",
            "At batch 152, the accuracy is 0.9017857142857143\n",
            "At batch 153, the accuracy is 0.9017857142857143\n",
            "At batch 154, the accuracy is 0.9017857142857143\n",
            "At batch 155, the accuracy is 0.9017857142857143\n",
            "At batch 156, the accuracy is 0.9017857142857143\n",
            "At batch 157, the accuracy is 0.9017857142857143\n",
            "At batch 158, the accuracy is 0.9017857142857143\n",
            "At batch 159, the accuracy is 0.9017857142857143\n"
          ],
          "name": "stdout"
        },
        {
          "output_type": "stream",
          "text": [
            "/usr/local/lib/python3.6/dist-packages/ipykernel_launcher.py:19: RuntimeWarning: overflow encountered in exp\n",
            "/usr/local/lib/python3.6/dist-packages/ipykernel_launcher.py:19: RuntimeWarning: overflow encountered in exp\n",
            "/usr/local/lib/python3.6/dist-packages/ipykernel_launcher.py:19: RuntimeWarning: overflow encountered in exp\n",
            "/usr/local/lib/python3.6/dist-packages/ipykernel_launcher.py:19: RuntimeWarning: overflow encountered in exp\n"
          ],
          "name": "stderr"
        },
        {
          "output_type": "stream",
          "text": [
            "At batch 160, the accuracy is 0.9017857142857143\n",
            "At batch 161, the accuracy is 0.9017857142857143\n",
            "At batch 162, the accuracy is 0.9017857142857143\n",
            "At batch 163, the accuracy is 0.9017857142857143\n",
            "At batch 164, the accuracy is 0.9017857142857143\n"
          ],
          "name": "stdout"
        },
        {
          "output_type": "stream",
          "text": [
            "/usr/local/lib/python3.6/dist-packages/ipykernel_launcher.py:19: RuntimeWarning: overflow encountered in exp\n",
            "/usr/local/lib/python3.6/dist-packages/ipykernel_launcher.py:19: RuntimeWarning: overflow encountered in exp\n",
            "/usr/local/lib/python3.6/dist-packages/ipykernel_launcher.py:19: RuntimeWarning: overflow encountered in exp\n",
            "/usr/local/lib/python3.6/dist-packages/ipykernel_launcher.py:19: RuntimeWarning: overflow encountered in exp\n",
            "/usr/local/lib/python3.6/dist-packages/ipykernel_launcher.py:19: RuntimeWarning: overflow encountered in exp\n",
            "/usr/local/lib/python3.6/dist-packages/ipykernel_launcher.py:19: RuntimeWarning: overflow encountered in exp\n"
          ],
          "name": "stderr"
        },
        {
          "output_type": "stream",
          "text": [
            "At batch 165, the accuracy is 0.9017857142857143\n",
            "At batch 166, the accuracy is 0.9017857142857143\n",
            "At batch 167, the accuracy is 0.9017857142857143\n",
            "At batch 168, the accuracy is 0.9017857142857143\n",
            "At batch 169, the accuracy is 0.9017857142857143\n"
          ],
          "name": "stdout"
        },
        {
          "output_type": "stream",
          "text": [
            "/usr/local/lib/python3.6/dist-packages/ipykernel_launcher.py:19: RuntimeWarning: overflow encountered in exp\n",
            "/usr/local/lib/python3.6/dist-packages/ipykernel_launcher.py:19: RuntimeWarning: overflow encountered in exp\n",
            "/usr/local/lib/python3.6/dist-packages/ipykernel_launcher.py:19: RuntimeWarning: overflow encountered in exp\n",
            "/usr/local/lib/python3.6/dist-packages/ipykernel_launcher.py:19: RuntimeWarning: overflow encountered in exp\n",
            "/usr/local/lib/python3.6/dist-packages/ipykernel_launcher.py:19: RuntimeWarning: overflow encountered in exp\n",
            "/usr/local/lib/python3.6/dist-packages/ipykernel_launcher.py:19: RuntimeWarning: overflow encountered in exp\n",
            "/usr/local/lib/python3.6/dist-packages/ipykernel_launcher.py:19: RuntimeWarning: overflow encountered in exp\n",
            "/usr/local/lib/python3.6/dist-packages/ipykernel_launcher.py:19: RuntimeWarning: overflow encountered in exp\n",
            "/usr/local/lib/python3.6/dist-packages/ipykernel_launcher.py:19: RuntimeWarning: overflow encountered in exp\n"
          ],
          "name": "stderr"
        },
        {
          "output_type": "stream",
          "text": [
            "At batch 170, the accuracy is 0.9017857142857143\n",
            "At batch 171, the accuracy is 0.9017857142857143\n",
            "At batch 172, the accuracy is 0.9017857142857143\n",
            "At batch 173, the accuracy is 0.9017857142857143\n",
            "At batch 174, the accuracy is 0.9017857142857143\n"
          ],
          "name": "stdout"
        },
        {
          "output_type": "stream",
          "text": [
            "/usr/local/lib/python3.6/dist-packages/ipykernel_launcher.py:19: RuntimeWarning: overflow encountered in exp\n",
            "/usr/local/lib/python3.6/dist-packages/ipykernel_launcher.py:19: RuntimeWarning: overflow encountered in exp\n"
          ],
          "name": "stderr"
        },
        {
          "output_type": "stream",
          "text": [
            "At batch 175, the accuracy is 0.9017857142857143\n",
            "At batch 176, the accuracy is 0.9017857142857143\n",
            "At batch 177, the accuracy is 0.9017857142857143\n",
            "At batch 178, the accuracy is 0.9017857142857143\n",
            "At batch 179, the accuracy is 0.9017857142857143\n"
          ],
          "name": "stdout"
        },
        {
          "output_type": "stream",
          "text": [
            "/usr/local/lib/python3.6/dist-packages/ipykernel_launcher.py:19: RuntimeWarning: overflow encountered in exp\n",
            "/usr/local/lib/python3.6/dist-packages/ipykernel_launcher.py:19: RuntimeWarning: overflow encountered in exp\n",
            "/usr/local/lib/python3.6/dist-packages/ipykernel_launcher.py:19: RuntimeWarning: overflow encountered in exp\n"
          ],
          "name": "stderr"
        },
        {
          "output_type": "stream",
          "text": [
            "At batch 180, the accuracy is 0.9017857142857143\n",
            "At batch 181, the accuracy is 0.9017857142857143\n",
            "At batch 182, the accuracy is 0.9017857142857143\n",
            "At batch 183, the accuracy is 0.9017857142857143\n",
            "At batch 184, the accuracy is 0.9017857142857143\n"
          ],
          "name": "stdout"
        },
        {
          "output_type": "stream",
          "text": [
            "/usr/local/lib/python3.6/dist-packages/ipykernel_launcher.py:19: RuntimeWarning: overflow encountered in exp\n",
            "/usr/local/lib/python3.6/dist-packages/ipykernel_launcher.py:19: RuntimeWarning: overflow encountered in exp\n",
            "/usr/local/lib/python3.6/dist-packages/ipykernel_launcher.py:19: RuntimeWarning: overflow encountered in exp\n",
            "/usr/local/lib/python3.6/dist-packages/ipykernel_launcher.py:19: RuntimeWarning: overflow encountered in exp\n",
            "/usr/local/lib/python3.6/dist-packages/ipykernel_launcher.py:19: RuntimeWarning: overflow encountered in exp\n"
          ],
          "name": "stderr"
        },
        {
          "output_type": "stream",
          "text": [
            "At batch 185, the accuracy is 0.9017857142857143\n",
            "At batch 186, the accuracy is 0.9017857142857143\n",
            "At batch 187, the accuracy is 0.9017857142857143\n",
            "At batch 188, the accuracy is 0.9017857142857143\n",
            "At batch 189, the accuracy is 0.9017857142857143\n"
          ],
          "name": "stdout"
        },
        {
          "output_type": "stream",
          "text": [
            "/usr/local/lib/python3.6/dist-packages/ipykernel_launcher.py:19: RuntimeWarning: overflow encountered in exp\n",
            "/usr/local/lib/python3.6/dist-packages/ipykernel_launcher.py:19: RuntimeWarning: overflow encountered in exp\n",
            "/usr/local/lib/python3.6/dist-packages/ipykernel_launcher.py:19: RuntimeWarning: overflow encountered in exp\n",
            "/usr/local/lib/python3.6/dist-packages/ipykernel_launcher.py:19: RuntimeWarning: overflow encountered in exp\n",
            "/usr/local/lib/python3.6/dist-packages/ipykernel_launcher.py:19: RuntimeWarning: overflow encountered in exp\n",
            "/usr/local/lib/python3.6/dist-packages/ipykernel_launcher.py:19: RuntimeWarning: overflow encountered in exp\n",
            "/usr/local/lib/python3.6/dist-packages/ipykernel_launcher.py:19: RuntimeWarning: overflow encountered in exp\n"
          ],
          "name": "stderr"
        },
        {
          "output_type": "stream",
          "text": [
            "At batch 190, the accuracy is 0.9017857142857143\n",
            "At batch 191, the accuracy is 0.9017857142857143\n",
            "At batch 192, the accuracy is 0.9017857142857143\n",
            "At batch 193, the accuracy is 0.9017857142857143\n",
            "At batch 194, the accuracy is 0.9017857142857143\n"
          ],
          "name": "stdout"
        },
        {
          "output_type": "stream",
          "text": [
            "/usr/local/lib/python3.6/dist-packages/ipykernel_launcher.py:19: RuntimeWarning: overflow encountered in exp\n",
            "/usr/local/lib/python3.6/dist-packages/ipykernel_launcher.py:19: RuntimeWarning: overflow encountered in exp\n",
            "/usr/local/lib/python3.6/dist-packages/ipykernel_launcher.py:19: RuntimeWarning: overflow encountered in exp\n",
            "/usr/local/lib/python3.6/dist-packages/ipykernel_launcher.py:19: RuntimeWarning: overflow encountered in exp\n",
            "/usr/local/lib/python3.6/dist-packages/ipykernel_launcher.py:19: RuntimeWarning: overflow encountered in exp\n",
            "/usr/local/lib/python3.6/dist-packages/ipykernel_launcher.py:19: RuntimeWarning: overflow encountered in exp\n",
            "/usr/local/lib/python3.6/dist-packages/ipykernel_launcher.py:19: RuntimeWarning: overflow encountered in exp\n",
            "/usr/local/lib/python3.6/dist-packages/ipykernel_launcher.py:19: RuntimeWarning: overflow encountered in exp\n",
            "/usr/local/lib/python3.6/dist-packages/ipykernel_launcher.py:19: RuntimeWarning: overflow encountered in exp\n",
            "/usr/local/lib/python3.6/dist-packages/ipykernel_launcher.py:19: RuntimeWarning: overflow encountered in exp\n",
            "/usr/local/lib/python3.6/dist-packages/ipykernel_launcher.py:19: RuntimeWarning: overflow encountered in exp\n",
            "/usr/local/lib/python3.6/dist-packages/ipykernel_launcher.py:19: RuntimeWarning: overflow encountered in exp\n",
            "/usr/local/lib/python3.6/dist-packages/ipykernel_launcher.py:19: RuntimeWarning: overflow encountered in exp\n",
            "/usr/local/lib/python3.6/dist-packages/ipykernel_launcher.py:19: RuntimeWarning: overflow encountered in exp\n"
          ],
          "name": "stderr"
        },
        {
          "output_type": "stream",
          "text": [
            "At batch 195, the accuracy is 0.9017857142857143\n",
            "At batch 196, the accuracy is 0.9017857142857143\n",
            "At batch 197, the accuracy is 0.9017857142857143\n",
            "At batch 198, the accuracy is 0.9017857142857143\n",
            "At batch 199, the accuracy is 0.9017857142857143\n"
          ],
          "name": "stdout"
        },
        {
          "output_type": "stream",
          "text": [
            "/usr/local/lib/python3.6/dist-packages/ipykernel_launcher.py:19: RuntimeWarning: overflow encountered in exp\n",
            "/usr/local/lib/python3.6/dist-packages/ipykernel_launcher.py:19: RuntimeWarning: overflow encountered in exp\n",
            "/usr/local/lib/python3.6/dist-packages/ipykernel_launcher.py:19: RuntimeWarning: overflow encountered in exp\n",
            "/usr/local/lib/python3.6/dist-packages/ipykernel_launcher.py:19: RuntimeWarning: overflow encountered in exp\n",
            "/usr/local/lib/python3.6/dist-packages/ipykernel_launcher.py:19: RuntimeWarning: overflow encountered in exp\n",
            "/usr/local/lib/python3.6/dist-packages/ipykernel_launcher.py:19: RuntimeWarning: overflow encountered in exp\n",
            "/usr/local/lib/python3.6/dist-packages/ipykernel_launcher.py:19: RuntimeWarning: overflow encountered in exp\n"
          ],
          "name": "stderr"
        },
        {
          "output_type": "stream",
          "text": [
            "At batch 200, the accuracy is 0.9017857142857143\n",
            "At batch 201, the accuracy is 0.9017857142857143\n",
            "At batch 202, the accuracy is 0.9017857142857143\n",
            "At batch 203, the accuracy is 0.9017857142857143\n",
            "At batch 204, the accuracy is 0.9017857142857143\n"
          ],
          "name": "stdout"
        },
        {
          "output_type": "stream",
          "text": [
            "/usr/local/lib/python3.6/dist-packages/ipykernel_launcher.py:19: RuntimeWarning: overflow encountered in exp\n",
            "/usr/local/lib/python3.6/dist-packages/ipykernel_launcher.py:19: RuntimeWarning: overflow encountered in exp\n",
            "/usr/local/lib/python3.6/dist-packages/ipykernel_launcher.py:19: RuntimeWarning: overflow encountered in exp\n",
            "/usr/local/lib/python3.6/dist-packages/ipykernel_launcher.py:19: RuntimeWarning: overflow encountered in exp\n",
            "/usr/local/lib/python3.6/dist-packages/ipykernel_launcher.py:19: RuntimeWarning: overflow encountered in exp\n",
            "/usr/local/lib/python3.6/dist-packages/ipykernel_launcher.py:19: RuntimeWarning: overflow encountered in exp\n"
          ],
          "name": "stderr"
        },
        {
          "output_type": "stream",
          "text": [
            "At batch 205, the accuracy is 0.9017857142857143\n",
            "At batch 206, the accuracy is 0.9017857142857143\n",
            "At batch 207, the accuracy is 0.9017857142857143\n",
            "At batch 208, the accuracy is 0.9464285714285714\n",
            "At batch 209, the accuracy is 0.9464285714285714\n"
          ],
          "name": "stdout"
        },
        {
          "output_type": "stream",
          "text": [
            "/usr/local/lib/python3.6/dist-packages/ipykernel_launcher.py:19: RuntimeWarning: overflow encountered in exp\n",
            "/usr/local/lib/python3.6/dist-packages/ipykernel_launcher.py:19: RuntimeWarning: overflow encountered in exp\n",
            "/usr/local/lib/python3.6/dist-packages/ipykernel_launcher.py:19: RuntimeWarning: overflow encountered in exp\n",
            "/usr/local/lib/python3.6/dist-packages/ipykernel_launcher.py:19: RuntimeWarning: overflow encountered in exp\n",
            "/usr/local/lib/python3.6/dist-packages/ipykernel_launcher.py:19: RuntimeWarning: overflow encountered in exp\n",
            "/usr/local/lib/python3.6/dist-packages/ipykernel_launcher.py:19: RuntimeWarning: overflow encountered in exp\n",
            "/usr/local/lib/python3.6/dist-packages/ipykernel_launcher.py:19: RuntimeWarning: overflow encountered in exp\n"
          ],
          "name": "stderr"
        },
        {
          "output_type": "stream",
          "text": [
            "At batch 210, the accuracy is 0.9464285714285714\n",
            "At batch 211, the accuracy is 0.9464285714285714\n",
            "At batch 212, the accuracy is 0.9464285714285714\n",
            "At batch 213, the accuracy is 0.9464285714285714\n",
            "At batch 214, the accuracy is 0.9464285714285714\n"
          ],
          "name": "stdout"
        },
        {
          "output_type": "stream",
          "text": [
            "/usr/local/lib/python3.6/dist-packages/ipykernel_launcher.py:19: RuntimeWarning: overflow encountered in exp\n",
            "/usr/local/lib/python3.6/dist-packages/ipykernel_launcher.py:19: RuntimeWarning: overflow encountered in exp\n",
            "/usr/local/lib/python3.6/dist-packages/ipykernel_launcher.py:19: RuntimeWarning: overflow encountered in exp\n",
            "/usr/local/lib/python3.6/dist-packages/ipykernel_launcher.py:19: RuntimeWarning: overflow encountered in exp\n",
            "/usr/local/lib/python3.6/dist-packages/ipykernel_launcher.py:19: RuntimeWarning: overflow encountered in exp\n",
            "/usr/local/lib/python3.6/dist-packages/ipykernel_launcher.py:19: RuntimeWarning: overflow encountered in exp\n",
            "/usr/local/lib/python3.6/dist-packages/ipykernel_launcher.py:19: RuntimeWarning: overflow encountered in exp\n",
            "/usr/local/lib/python3.6/dist-packages/ipykernel_launcher.py:19: RuntimeWarning: overflow encountered in exp\n",
            "/usr/local/lib/python3.6/dist-packages/ipykernel_launcher.py:19: RuntimeWarning: overflow encountered in exp\n",
            "/usr/local/lib/python3.6/dist-packages/ipykernel_launcher.py:19: RuntimeWarning: overflow encountered in exp\n"
          ],
          "name": "stderr"
        },
        {
          "output_type": "stream",
          "text": [
            "At batch 215, the accuracy is 0.9464285714285714\n",
            "At batch 216, the accuracy is 0.9464285714285714\n",
            "At batch 217, the accuracy is 0.9464285714285714\n",
            "At batch 218, the accuracy is 0.9464285714285714\n",
            "At batch 219, the accuracy is 0.9464285714285714\n"
          ],
          "name": "stdout"
        },
        {
          "output_type": "stream",
          "text": [
            "/usr/local/lib/python3.6/dist-packages/ipykernel_launcher.py:19: RuntimeWarning: overflow encountered in exp\n",
            "/usr/local/lib/python3.6/dist-packages/ipykernel_launcher.py:19: RuntimeWarning: overflow encountered in exp\n",
            "/usr/local/lib/python3.6/dist-packages/ipykernel_launcher.py:19: RuntimeWarning: overflow encountered in exp\n",
            "/usr/local/lib/python3.6/dist-packages/ipykernel_launcher.py:19: RuntimeWarning: overflow encountered in exp\n",
            "/usr/local/lib/python3.6/dist-packages/ipykernel_launcher.py:19: RuntimeWarning: overflow encountered in exp\n"
          ],
          "name": "stderr"
        },
        {
          "output_type": "stream",
          "text": [
            "At batch 220, the accuracy is 0.9464285714285714\n",
            "At batch 221, the accuracy is 0.9464285714285714\n",
            "At batch 222, the accuracy is 0.9464285714285714\n",
            "At batch 223, the accuracy is 0.9553571428571429\n",
            "At batch 224, the accuracy is 0.9375\n"
          ],
          "name": "stdout"
        },
        {
          "output_type": "stream",
          "text": [
            "/usr/local/lib/python3.6/dist-packages/ipykernel_launcher.py:19: RuntimeWarning: overflow encountered in exp\n",
            "/usr/local/lib/python3.6/dist-packages/ipykernel_launcher.py:19: RuntimeWarning: overflow encountered in exp\n",
            "/usr/local/lib/python3.6/dist-packages/ipykernel_launcher.py:19: RuntimeWarning: overflow encountered in exp\n",
            "/usr/local/lib/python3.6/dist-packages/ipykernel_launcher.py:19: RuntimeWarning: overflow encountered in exp\n",
            "/usr/local/lib/python3.6/dist-packages/ipykernel_launcher.py:19: RuntimeWarning: overflow encountered in exp\n"
          ],
          "name": "stderr"
        },
        {
          "output_type": "stream",
          "text": [
            "At batch 225, the accuracy is 0.9375\n",
            "At batch 226, the accuracy is 0.9375\n",
            "At batch 227, the accuracy is 0.9375\n",
            "At batch 228, the accuracy is 0.9375\n",
            "At batch 229, the accuracy is 0.9375\n"
          ],
          "name": "stdout"
        },
        {
          "output_type": "stream",
          "text": [
            "/usr/local/lib/python3.6/dist-packages/ipykernel_launcher.py:19: RuntimeWarning: overflow encountered in exp\n",
            "/usr/local/lib/python3.6/dist-packages/ipykernel_launcher.py:19: RuntimeWarning: overflow encountered in exp\n",
            "/usr/local/lib/python3.6/dist-packages/ipykernel_launcher.py:19: RuntimeWarning: overflow encountered in exp\n",
            "/usr/local/lib/python3.6/dist-packages/ipykernel_launcher.py:19: RuntimeWarning: overflow encountered in exp\n",
            "/usr/local/lib/python3.6/dist-packages/ipykernel_launcher.py:19: RuntimeWarning: overflow encountered in exp\n"
          ],
          "name": "stderr"
        },
        {
          "output_type": "stream",
          "text": [
            "At batch 230, the accuracy is 0.9375\n",
            "At batch 231, the accuracy is 0.9375\n",
            "At batch 232, the accuracy is 0.9375\n",
            "At batch 233, the accuracy is 0.9375\n",
            "At batch 234, the accuracy is 0.9375\n"
          ],
          "name": "stdout"
        },
        {
          "output_type": "stream",
          "text": [
            "/usr/local/lib/python3.6/dist-packages/ipykernel_launcher.py:19: RuntimeWarning: overflow encountered in exp\n",
            "/usr/local/lib/python3.6/dist-packages/ipykernel_launcher.py:19: RuntimeWarning: overflow encountered in exp\n"
          ],
          "name": "stderr"
        },
        {
          "output_type": "stream",
          "text": [
            "At batch 235, the accuracy is 0.9375\n",
            "At batch 236, the accuracy is 0.9375\n",
            "At batch 237, the accuracy is 0.9375\n",
            "At batch 238, the accuracy is 0.9375\n",
            "At batch 239, the accuracy is 0.9375\n"
          ],
          "name": "stdout"
        },
        {
          "output_type": "stream",
          "text": [
            "/usr/local/lib/python3.6/dist-packages/ipykernel_launcher.py:19: RuntimeWarning: overflow encountered in exp\n",
            "/usr/local/lib/python3.6/dist-packages/ipykernel_launcher.py:19: RuntimeWarning: overflow encountered in exp\n",
            "/usr/local/lib/python3.6/dist-packages/ipykernel_launcher.py:19: RuntimeWarning: overflow encountered in exp\n",
            "/usr/local/lib/python3.6/dist-packages/ipykernel_launcher.py:19: RuntimeWarning: overflow encountered in exp\n",
            "/usr/local/lib/python3.6/dist-packages/ipykernel_launcher.py:19: RuntimeWarning: overflow encountered in exp\n",
            "/usr/local/lib/python3.6/dist-packages/ipykernel_launcher.py:19: RuntimeWarning: overflow encountered in exp\n"
          ],
          "name": "stderr"
        },
        {
          "output_type": "stream",
          "text": [
            "At batch 240, the accuracy is 0.9553571428571429\n",
            "At batch 241, the accuracy is 0.9553571428571429\n",
            "At batch 242, the accuracy is 0.9553571428571429\n",
            "At batch 243, the accuracy is 0.9553571428571429\n",
            "At batch 244, the accuracy is 0.9553571428571429\n"
          ],
          "name": "stdout"
        },
        {
          "output_type": "stream",
          "text": [
            "/usr/local/lib/python3.6/dist-packages/ipykernel_launcher.py:19: RuntimeWarning: overflow encountered in exp\n",
            "/usr/local/lib/python3.6/dist-packages/ipykernel_launcher.py:19: RuntimeWarning: overflow encountered in exp\n",
            "/usr/local/lib/python3.6/dist-packages/ipykernel_launcher.py:19: RuntimeWarning: overflow encountered in exp\n"
          ],
          "name": "stderr"
        },
        {
          "output_type": "stream",
          "text": [
            "At batch 245, the accuracy is 0.9553571428571429\n",
            "At batch 246, the accuracy is 0.9642857142857143\n",
            "At batch 247, the accuracy is 0.9642857142857143\n",
            "At batch 248, the accuracy is 0.9642857142857143\n",
            "At batch 249, the accuracy is 0.9642857142857143\n",
            "At batch 250, the accuracy is 0.9553571428571429\n",
            "At batch 251, the accuracy is 0.9553571428571429\n",
            "At batch 252, the accuracy is 0.9553571428571429\n",
            "At batch 253, the accuracy is 0.9553571428571429\n",
            "At batch 254, the accuracy is 0.9642857142857143\n"
          ],
          "name": "stdout"
        },
        {
          "output_type": "stream",
          "text": [
            "/usr/local/lib/python3.6/dist-packages/ipykernel_launcher.py:19: RuntimeWarning: overflow encountered in exp\n",
            "/usr/local/lib/python3.6/dist-packages/ipykernel_launcher.py:19: RuntimeWarning: overflow encountered in exp\n",
            "/usr/local/lib/python3.6/dist-packages/ipykernel_launcher.py:19: RuntimeWarning: overflow encountered in exp\n"
          ],
          "name": "stderr"
        },
        {
          "output_type": "stream",
          "text": [
            "At batch 255, the accuracy is 0.9642857142857143\n",
            "At batch 256, the accuracy is 0.9642857142857143\n",
            "At batch 257, the accuracy is 0.9642857142857143\n",
            "At batch 258, the accuracy is 0.9642857142857143\n",
            "At batch 259, the accuracy is 0.9642857142857143\n"
          ],
          "name": "stdout"
        },
        {
          "output_type": "stream",
          "text": [
            "/usr/local/lib/python3.6/dist-packages/ipykernel_launcher.py:19: RuntimeWarning: overflow encountered in exp\n",
            "/usr/local/lib/python3.6/dist-packages/ipykernel_launcher.py:19: RuntimeWarning: overflow encountered in exp\n",
            "/usr/local/lib/python3.6/dist-packages/ipykernel_launcher.py:19: RuntimeWarning: overflow encountered in exp\n",
            "/usr/local/lib/python3.6/dist-packages/ipykernel_launcher.py:19: RuntimeWarning: overflow encountered in exp\n"
          ],
          "name": "stderr"
        },
        {
          "output_type": "stream",
          "text": [
            "At batch 260, the accuracy is 0.9642857142857143\n",
            "At batch 261, the accuracy is 0.9642857142857143\n",
            "At batch 262, the accuracy is 0.9642857142857143\n",
            "At batch 263, the accuracy is 0.9642857142857143\n",
            "At batch 264, the accuracy is 0.9642857142857143\n",
            "At batch 265, the accuracy is 0.9642857142857143\n",
            "At batch 266, the accuracy is 0.9642857142857143\n",
            "At batch 267, the accuracy is 0.9642857142857143\n",
            "At batch 268, the accuracy is 0.9375\n",
            "At batch 269, the accuracy is 0.9375\n"
          ],
          "name": "stdout"
        },
        {
          "output_type": "stream",
          "text": [
            "/usr/local/lib/python3.6/dist-packages/ipykernel_launcher.py:19: RuntimeWarning: overflow encountered in exp\n",
            "/usr/local/lib/python3.6/dist-packages/ipykernel_launcher.py:19: RuntimeWarning: overflow encountered in exp\n",
            "/usr/local/lib/python3.6/dist-packages/ipykernel_launcher.py:19: RuntimeWarning: overflow encountered in exp\n",
            "/usr/local/lib/python3.6/dist-packages/ipykernel_launcher.py:19: RuntimeWarning: overflow encountered in exp\n",
            "/usr/local/lib/python3.6/dist-packages/ipykernel_launcher.py:19: RuntimeWarning: overflow encountered in exp\n",
            "/usr/local/lib/python3.6/dist-packages/ipykernel_launcher.py:19: RuntimeWarning: overflow encountered in exp\n"
          ],
          "name": "stderr"
        },
        {
          "output_type": "stream",
          "text": [
            "At batch 270, the accuracy is 0.9375\n",
            "At batch 271, the accuracy is 0.9553571428571429\n",
            "At batch 272, the accuracy is 0.9553571428571429\n",
            "At batch 273, the accuracy is 0.9375\n",
            "At batch 274, the accuracy is 0.9375\n"
          ],
          "name": "stdout"
        },
        {
          "output_type": "stream",
          "text": [
            "/usr/local/lib/python3.6/dist-packages/ipykernel_launcher.py:19: RuntimeWarning: overflow encountered in exp\n",
            "/usr/local/lib/python3.6/dist-packages/ipykernel_launcher.py:19: RuntimeWarning: overflow encountered in exp\n",
            "/usr/local/lib/python3.6/dist-packages/ipykernel_launcher.py:19: RuntimeWarning: overflow encountered in exp\n"
          ],
          "name": "stderr"
        },
        {
          "output_type": "stream",
          "text": [
            "At batch 275, the accuracy is 0.9375\n",
            "At batch 276, the accuracy is 0.9375\n",
            "At batch 277, the accuracy is 0.9553571428571429\n",
            "At batch 278, the accuracy is 0.9553571428571429\n",
            "At batch 279, the accuracy is 0.9553571428571429\n"
          ],
          "name": "stdout"
        },
        {
          "output_type": "stream",
          "text": [
            "/usr/local/lib/python3.6/dist-packages/ipykernel_launcher.py:19: RuntimeWarning: overflow encountered in exp\n",
            "/usr/local/lib/python3.6/dist-packages/ipykernel_launcher.py:19: RuntimeWarning: overflow encountered in exp\n"
          ],
          "name": "stderr"
        },
        {
          "output_type": "stream",
          "text": [
            "At batch 280, the accuracy is 0.9553571428571429\n",
            "At batch 281, the accuracy is 0.9553571428571429\n",
            "At batch 282, the accuracy is 0.9553571428571429\n",
            "At batch 283, the accuracy is 0.9553571428571429\n",
            "At batch 284, the accuracy is 0.9553571428571429\n",
            "At batch 285, the accuracy is 0.9553571428571429\n",
            "At batch 286, the accuracy is 0.9553571428571429\n",
            "At batch 287, the accuracy is 0.9464285714285714\n",
            "At batch 288, the accuracy is 0.9464285714285714\n",
            "At batch 289, the accuracy is 0.9285714285714286\n"
          ],
          "name": "stdout"
        },
        {
          "output_type": "stream",
          "text": [
            "/usr/local/lib/python3.6/dist-packages/ipykernel_launcher.py:19: RuntimeWarning: overflow encountered in exp\n",
            "/usr/local/lib/python3.6/dist-packages/ipykernel_launcher.py:19: RuntimeWarning: overflow encountered in exp\n",
            "/usr/local/lib/python3.6/dist-packages/ipykernel_launcher.py:19: RuntimeWarning: overflow encountered in exp\n"
          ],
          "name": "stderr"
        },
        {
          "output_type": "stream",
          "text": [
            "At batch 290, the accuracy is 0.9375\n",
            "At batch 291, the accuracy is 0.9464285714285714\n",
            "At batch 292, the accuracy is 0.9464285714285714\n",
            "At batch 293, the accuracy is 0.9553571428571429\n",
            "At batch 294, the accuracy is 0.9553571428571429\n"
          ],
          "name": "stdout"
        },
        {
          "output_type": "stream",
          "text": [
            "/usr/local/lib/python3.6/dist-packages/ipykernel_launcher.py:19: RuntimeWarning: overflow encountered in exp\n",
            "/usr/local/lib/python3.6/dist-packages/ipykernel_launcher.py:19: RuntimeWarning: overflow encountered in exp\n"
          ],
          "name": "stderr"
        },
        {
          "output_type": "stream",
          "text": [
            "At batch 295, the accuracy is 0.9553571428571429\n",
            "At batch 296, the accuracy is 0.9553571428571429\n",
            "At batch 297, the accuracy is 0.9553571428571429\n",
            "At batch 298, the accuracy is 0.9642857142857143\n",
            "At batch 299, the accuracy is 0.9553571428571429\n"
          ],
          "name": "stdout"
        },
        {
          "output_type": "stream",
          "text": [
            "/usr/local/lib/python3.6/dist-packages/ipykernel_launcher.py:19: RuntimeWarning: overflow encountered in exp\n",
            "/usr/local/lib/python3.6/dist-packages/ipykernel_launcher.py:19: RuntimeWarning: overflow encountered in exp\n"
          ],
          "name": "stderr"
        },
        {
          "output_type": "stream",
          "text": [
            "At batch 300, the accuracy is 0.9553571428571429\n",
            "At batch 301, the accuracy is 0.9285714285714286\n",
            "At batch 302, the accuracy is 0.9285714285714286\n",
            "At batch 303, the accuracy is 0.9285714285714286\n",
            "At batch 304, the accuracy is 0.9285714285714286\n"
          ],
          "name": "stdout"
        },
        {
          "output_type": "stream",
          "text": [
            "/usr/local/lib/python3.6/dist-packages/ipykernel_launcher.py:19: RuntimeWarning: overflow encountered in exp\n",
            "/usr/local/lib/python3.6/dist-packages/ipykernel_launcher.py:19: RuntimeWarning: overflow encountered in exp\n",
            "/usr/local/lib/python3.6/dist-packages/ipykernel_launcher.py:19: RuntimeWarning: overflow encountered in exp\n",
            "/usr/local/lib/python3.6/dist-packages/ipykernel_launcher.py:19: RuntimeWarning: overflow encountered in exp\n"
          ],
          "name": "stderr"
        },
        {
          "output_type": "stream",
          "text": [
            "At batch 305, the accuracy is 0.9375\n",
            "At batch 306, the accuracy is 0.9375\n",
            "At batch 307, the accuracy is 0.9375\n",
            "At batch 308, the accuracy is 0.9375\n",
            "At batch 309, the accuracy is 0.9375\n",
            "At batch 310, the accuracy is 0.9375\n",
            "At batch 311, the accuracy is 0.9375\n",
            "At batch 312, the accuracy is 0.9375\n",
            "At batch 313, the accuracy is 0.9375\n",
            "At batch 314, the accuracy is 0.9375\n"
          ],
          "name": "stdout"
        },
        {
          "output_type": "stream",
          "text": [
            "/usr/local/lib/python3.6/dist-packages/ipykernel_launcher.py:19: RuntimeWarning: overflow encountered in exp\n",
            "/usr/local/lib/python3.6/dist-packages/ipykernel_launcher.py:19: RuntimeWarning: overflow encountered in exp\n"
          ],
          "name": "stderr"
        },
        {
          "output_type": "stream",
          "text": [
            "At batch 315, the accuracy is 0.9375\n",
            "At batch 316, the accuracy is 0.9375\n",
            "At batch 317, the accuracy is 0.9375\n",
            "At batch 318, the accuracy is 0.9375\n",
            "At batch 319, the accuracy is 0.9375\n"
          ],
          "name": "stdout"
        },
        {
          "output_type": "stream",
          "text": [
            "/usr/local/lib/python3.6/dist-packages/ipykernel_launcher.py:19: RuntimeWarning: overflow encountered in exp\n",
            "/usr/local/lib/python3.6/dist-packages/ipykernel_launcher.py:19: RuntimeWarning: overflow encountered in exp\n"
          ],
          "name": "stderr"
        },
        {
          "output_type": "stream",
          "text": [
            "At batch 320, the accuracy is 0.9375\n",
            "At batch 321, the accuracy is 0.9375\n",
            "At batch 322, the accuracy is 0.9375\n",
            "At batch 323, the accuracy is 0.9375\n",
            "At batch 324, the accuracy is 0.9375\n"
          ],
          "name": "stdout"
        },
        {
          "output_type": "stream",
          "text": [
            "/usr/local/lib/python3.6/dist-packages/ipykernel_launcher.py:19: RuntimeWarning: overflow encountered in exp\n",
            "/usr/local/lib/python3.6/dist-packages/ipykernel_launcher.py:19: RuntimeWarning: overflow encountered in exp\n",
            "/usr/local/lib/python3.6/dist-packages/ipykernel_launcher.py:19: RuntimeWarning: overflow encountered in exp\n",
            "/usr/local/lib/python3.6/dist-packages/ipykernel_launcher.py:19: RuntimeWarning: overflow encountered in exp\n",
            "/usr/local/lib/python3.6/dist-packages/ipykernel_launcher.py:19: RuntimeWarning: overflow encountered in exp\n",
            "/usr/local/lib/python3.6/dist-packages/ipykernel_launcher.py:19: RuntimeWarning: overflow encountered in exp\n"
          ],
          "name": "stderr"
        },
        {
          "output_type": "stream",
          "text": [
            "At batch 325, the accuracy is 0.9375\n",
            "At batch 326, the accuracy is 0.9375\n",
            "At batch 327, the accuracy is 0.9375\n",
            "At batch 328, the accuracy is 0.9375\n",
            "At batch 329, the accuracy is 0.9464285714285714\n"
          ],
          "name": "stdout"
        },
        {
          "output_type": "stream",
          "text": [
            "/usr/local/lib/python3.6/dist-packages/ipykernel_launcher.py:19: RuntimeWarning: overflow encountered in exp\n",
            "/usr/local/lib/python3.6/dist-packages/ipykernel_launcher.py:19: RuntimeWarning: overflow encountered in exp\n",
            "/usr/local/lib/python3.6/dist-packages/ipykernel_launcher.py:19: RuntimeWarning: overflow encountered in exp\n",
            "/usr/local/lib/python3.6/dist-packages/ipykernel_launcher.py:19: RuntimeWarning: overflow encountered in exp\n",
            "/usr/local/lib/python3.6/dist-packages/ipykernel_launcher.py:19: RuntimeWarning: overflow encountered in exp\n",
            "/usr/local/lib/python3.6/dist-packages/ipykernel_launcher.py:19: RuntimeWarning: overflow encountered in exp\n"
          ],
          "name": "stderr"
        },
        {
          "output_type": "stream",
          "text": [
            "At batch 330, the accuracy is 0.9464285714285714\n",
            "At batch 331, the accuracy is 0.9464285714285714\n",
            "At batch 332, the accuracy is 0.9464285714285714\n",
            "At batch 333, the accuracy is 0.9464285714285714\n",
            "At batch 334, the accuracy is 0.9464285714285714\n",
            "At batch 335, the accuracy is 0.9553571428571429\n",
            "At batch 336, the accuracy is 0.9642857142857143\n",
            "At batch 337, the accuracy is 0.9642857142857143\n",
            "At batch 338, the accuracy is 0.9642857142857143\n",
            "At batch 339, the accuracy is 0.9642857142857143\n"
          ],
          "name": "stdout"
        },
        {
          "output_type": "stream",
          "text": [
            "/usr/local/lib/python3.6/dist-packages/ipykernel_launcher.py:19: RuntimeWarning: overflow encountered in exp\n",
            "/usr/local/lib/python3.6/dist-packages/ipykernel_launcher.py:19: RuntimeWarning: overflow encountered in exp\n",
            "/usr/local/lib/python3.6/dist-packages/ipykernel_launcher.py:19: RuntimeWarning: overflow encountered in exp\n",
            "/usr/local/lib/python3.6/dist-packages/ipykernel_launcher.py:19: RuntimeWarning: overflow encountered in exp\n",
            "/usr/local/lib/python3.6/dist-packages/ipykernel_launcher.py:19: RuntimeWarning: overflow encountered in exp\n",
            "/usr/local/lib/python3.6/dist-packages/ipykernel_launcher.py:19: RuntimeWarning: overflow encountered in exp\n",
            "/usr/local/lib/python3.6/dist-packages/ipykernel_launcher.py:19: RuntimeWarning: overflow encountered in exp\n",
            "/usr/local/lib/python3.6/dist-packages/ipykernel_launcher.py:19: RuntimeWarning: overflow encountered in exp\n"
          ],
          "name": "stderr"
        },
        {
          "output_type": "stream",
          "text": [
            "At batch 340, the accuracy is 0.9642857142857143\n",
            "At batch 341, the accuracy is 0.9642857142857143\n",
            "At batch 342, the accuracy is 0.9642857142857143\n",
            "At batch 343, the accuracy is 0.9553571428571429\n",
            "At batch 344, the accuracy is 0.9642857142857143\n"
          ],
          "name": "stdout"
        },
        {
          "output_type": "stream",
          "text": [
            "/usr/local/lib/python3.6/dist-packages/ipykernel_launcher.py:19: RuntimeWarning: overflow encountered in exp\n",
            "/usr/local/lib/python3.6/dist-packages/ipykernel_launcher.py:19: RuntimeWarning: overflow encountered in exp\n",
            "/usr/local/lib/python3.6/dist-packages/ipykernel_launcher.py:19: RuntimeWarning: overflow encountered in exp\n",
            "/usr/local/lib/python3.6/dist-packages/ipykernel_launcher.py:19: RuntimeWarning: overflow encountered in exp\n",
            "/usr/local/lib/python3.6/dist-packages/ipykernel_launcher.py:19: RuntimeWarning: overflow encountered in exp\n",
            "/usr/local/lib/python3.6/dist-packages/ipykernel_launcher.py:19: RuntimeWarning: overflow encountered in exp\n"
          ],
          "name": "stderr"
        },
        {
          "output_type": "stream",
          "text": [
            "At batch 345, the accuracy is 0.9642857142857143\n",
            "At batch 346, the accuracy is 0.9642857142857143\n",
            "At batch 347, the accuracy is 0.9642857142857143\n",
            "At batch 348, the accuracy is 0.9642857142857143\n",
            "At batch 349, the accuracy is 0.9732142857142857\n"
          ],
          "name": "stdout"
        },
        {
          "output_type": "stream",
          "text": [
            "/usr/local/lib/python3.6/dist-packages/ipykernel_launcher.py:19: RuntimeWarning: overflow encountered in exp\n",
            "/usr/local/lib/python3.6/dist-packages/ipykernel_launcher.py:19: RuntimeWarning: overflow encountered in exp\n",
            "/usr/local/lib/python3.6/dist-packages/ipykernel_launcher.py:19: RuntimeWarning: overflow encountered in exp\n"
          ],
          "name": "stderr"
        },
        {
          "output_type": "stream",
          "text": [
            "At batch 350, the accuracy is 0.9642857142857143\n",
            "At batch 351, the accuracy is 0.9553571428571429\n",
            "At batch 352, the accuracy is 0.9553571428571429\n",
            "At batch 353, the accuracy is 0.9553571428571429\n",
            "At batch 354, the accuracy is 0.9553571428571429\n"
          ],
          "name": "stdout"
        },
        {
          "output_type": "stream",
          "text": [
            "/usr/local/lib/python3.6/dist-packages/ipykernel_launcher.py:19: RuntimeWarning: overflow encountered in exp\n",
            "/usr/local/lib/python3.6/dist-packages/ipykernel_launcher.py:19: RuntimeWarning: overflow encountered in exp\n",
            "/usr/local/lib/python3.6/dist-packages/ipykernel_launcher.py:19: RuntimeWarning: overflow encountered in exp\n"
          ],
          "name": "stderr"
        },
        {
          "output_type": "stream",
          "text": [
            "At batch 355, the accuracy is 0.9553571428571429\n",
            "At batch 356, the accuracy is 0.9553571428571429\n",
            "At batch 357, the accuracy is 0.9732142857142857\n",
            "At batch 358, the accuracy is 0.9553571428571429\n",
            "At batch 359, the accuracy is 0.9553571428571429\n"
          ],
          "name": "stdout"
        },
        {
          "output_type": "stream",
          "text": [
            "/usr/local/lib/python3.6/dist-packages/ipykernel_launcher.py:19: RuntimeWarning: overflow encountered in exp\n",
            "/usr/local/lib/python3.6/dist-packages/ipykernel_launcher.py:19: RuntimeWarning: overflow encountered in exp\n",
            "/usr/local/lib/python3.6/dist-packages/ipykernel_launcher.py:19: RuntimeWarning: overflow encountered in exp\n"
          ],
          "name": "stderr"
        },
        {
          "output_type": "stream",
          "text": [
            "At batch 360, the accuracy is 0.9553571428571429\n",
            "At batch 361, the accuracy is 0.9553571428571429\n",
            "At batch 362, the accuracy is 0.9553571428571429\n",
            "At batch 363, the accuracy is 0.9642857142857143\n",
            "At batch 364, the accuracy is 0.9642857142857143\n",
            "At batch 365, the accuracy is 0.9732142857142857\n",
            "At batch 366, the accuracy is 0.9732142857142857\n",
            "At batch 367, the accuracy is 0.9732142857142857\n",
            "At batch 368, the accuracy is 0.9732142857142857\n",
            "At batch 369, the accuracy is 0.9732142857142857\n"
          ],
          "name": "stdout"
        },
        {
          "output_type": "stream",
          "text": [
            "/usr/local/lib/python3.6/dist-packages/ipykernel_launcher.py:19: RuntimeWarning: overflow encountered in exp\n",
            "/usr/local/lib/python3.6/dist-packages/ipykernel_launcher.py:19: RuntimeWarning: overflow encountered in exp\n",
            "/usr/local/lib/python3.6/dist-packages/ipykernel_launcher.py:19: RuntimeWarning: overflow encountered in exp\n"
          ],
          "name": "stderr"
        },
        {
          "output_type": "stream",
          "text": [
            "At batch 370, the accuracy is 0.9732142857142857\n",
            "At batch 371, the accuracy is 0.9732142857142857\n",
            "At batch 372, the accuracy is 0.9732142857142857\n",
            "At batch 373, the accuracy is 0.9732142857142857\n",
            "At batch 374, the accuracy is 0.9732142857142857\n"
          ],
          "name": "stdout"
        },
        {
          "output_type": "stream",
          "text": [
            "/usr/local/lib/python3.6/dist-packages/ipykernel_launcher.py:19: RuntimeWarning: overflow encountered in exp\n",
            "/usr/local/lib/python3.6/dist-packages/ipykernel_launcher.py:19: RuntimeWarning: overflow encountered in exp\n",
            "/usr/local/lib/python3.6/dist-packages/ipykernel_launcher.py:19: RuntimeWarning: overflow encountered in exp\n",
            "/usr/local/lib/python3.6/dist-packages/ipykernel_launcher.py:19: RuntimeWarning: overflow encountered in exp\n"
          ],
          "name": "stderr"
        },
        {
          "output_type": "stream",
          "text": [
            "At batch 375, the accuracy is 0.9732142857142857\n",
            "At batch 376, the accuracy is 0.9732142857142857\n",
            "At batch 377, the accuracy is 0.9642857142857143\n",
            "At batch 378, the accuracy is 0.9642857142857143\n",
            "At batch 379, the accuracy is 0.9642857142857143\n"
          ],
          "name": "stdout"
        },
        {
          "output_type": "stream",
          "text": [
            "/usr/local/lib/python3.6/dist-packages/ipykernel_launcher.py:19: RuntimeWarning: overflow encountered in exp\n",
            "/usr/local/lib/python3.6/dist-packages/ipykernel_launcher.py:19: RuntimeWarning: overflow encountered in exp\n",
            "/usr/local/lib/python3.6/dist-packages/ipykernel_launcher.py:19: RuntimeWarning: overflow encountered in exp\n",
            "/usr/local/lib/python3.6/dist-packages/ipykernel_launcher.py:19: RuntimeWarning: overflow encountered in exp\n",
            "/usr/local/lib/python3.6/dist-packages/ipykernel_launcher.py:19: RuntimeWarning: overflow encountered in exp\n",
            "/usr/local/lib/python3.6/dist-packages/ipykernel_launcher.py:19: RuntimeWarning: overflow encountered in exp\n"
          ],
          "name": "stderr"
        },
        {
          "output_type": "stream",
          "text": [
            "At batch 380, the accuracy is 0.9642857142857143\n",
            "At batch 381, the accuracy is 0.9642857142857143\n",
            "At batch 382, the accuracy is 0.9642857142857143\n",
            "At batch 383, the accuracy is 0.9642857142857143\n",
            "At batch 384, the accuracy is 0.9642857142857143\n"
          ],
          "name": "stdout"
        },
        {
          "output_type": "stream",
          "text": [
            "/usr/local/lib/python3.6/dist-packages/ipykernel_launcher.py:19: RuntimeWarning: overflow encountered in exp\n",
            "/usr/local/lib/python3.6/dist-packages/ipykernel_launcher.py:19: RuntimeWarning: overflow encountered in exp\n",
            "/usr/local/lib/python3.6/dist-packages/ipykernel_launcher.py:19: RuntimeWarning: overflow encountered in exp\n",
            "/usr/local/lib/python3.6/dist-packages/ipykernel_launcher.py:19: RuntimeWarning: overflow encountered in exp\n",
            "/usr/local/lib/python3.6/dist-packages/ipykernel_launcher.py:19: RuntimeWarning: overflow encountered in exp\n"
          ],
          "name": "stderr"
        },
        {
          "output_type": "stream",
          "text": [
            "At batch 385, the accuracy is 0.9642857142857143\n",
            "At batch 386, the accuracy is 0.9642857142857143\n",
            "At batch 387, the accuracy is 0.9642857142857143\n",
            "At batch 388, the accuracy is 0.9642857142857143\n",
            "At batch 389, the accuracy is 0.9642857142857143\n"
          ],
          "name": "stdout"
        },
        {
          "output_type": "stream",
          "text": [
            "/usr/local/lib/python3.6/dist-packages/ipykernel_launcher.py:19: RuntimeWarning: overflow encountered in exp\n",
            "/usr/local/lib/python3.6/dist-packages/ipykernel_launcher.py:19: RuntimeWarning: overflow encountered in exp\n",
            "/usr/local/lib/python3.6/dist-packages/ipykernel_launcher.py:19: RuntimeWarning: overflow encountered in exp\n",
            "/usr/local/lib/python3.6/dist-packages/ipykernel_launcher.py:19: RuntimeWarning: overflow encountered in exp\n",
            "/usr/local/lib/python3.6/dist-packages/ipykernel_launcher.py:19: RuntimeWarning: overflow encountered in exp\n",
            "/usr/local/lib/python3.6/dist-packages/ipykernel_launcher.py:19: RuntimeWarning: overflow encountered in exp\n"
          ],
          "name": "stderr"
        },
        {
          "output_type": "stream",
          "text": [
            "At batch 390, the accuracy is 0.9642857142857143\n",
            "At batch 391, the accuracy is 0.9642857142857143\n",
            "At batch 392, the accuracy is 0.9642857142857143\n",
            "At batch 393, the accuracy is 0.9642857142857143\n",
            "At batch 394, the accuracy is 0.9642857142857143\n"
          ],
          "name": "stdout"
        },
        {
          "output_type": "stream",
          "text": [
            "/usr/local/lib/python3.6/dist-packages/ipykernel_launcher.py:19: RuntimeWarning: overflow encountered in exp\n",
            "/usr/local/lib/python3.6/dist-packages/ipykernel_launcher.py:19: RuntimeWarning: overflow encountered in exp\n",
            "/usr/local/lib/python3.6/dist-packages/ipykernel_launcher.py:19: RuntimeWarning: overflow encountered in exp\n",
            "/usr/local/lib/python3.6/dist-packages/ipykernel_launcher.py:19: RuntimeWarning: overflow encountered in exp\n",
            "/usr/local/lib/python3.6/dist-packages/ipykernel_launcher.py:19: RuntimeWarning: overflow encountered in exp\n",
            "/usr/local/lib/python3.6/dist-packages/ipykernel_launcher.py:19: RuntimeWarning: overflow encountered in exp\n",
            "/usr/local/lib/python3.6/dist-packages/ipykernel_launcher.py:19: RuntimeWarning: overflow encountered in exp\n"
          ],
          "name": "stderr"
        },
        {
          "output_type": "stream",
          "text": [
            "At batch 395, the accuracy is 0.9642857142857143\n",
            "At batch 396, the accuracy is 0.9642857142857143\n",
            "At batch 397, the accuracy is 0.9642857142857143\n",
            "At batch 398, the accuracy is 0.9642857142857143\n",
            "At batch 399, the accuracy is 0.9642857142857143\n"
          ],
          "name": "stdout"
        },
        {
          "output_type": "stream",
          "text": [
            "/usr/local/lib/python3.6/dist-packages/ipykernel_launcher.py:19: RuntimeWarning: overflow encountered in exp\n",
            "/usr/local/lib/python3.6/dist-packages/ipykernel_launcher.py:19: RuntimeWarning: overflow encountered in exp\n",
            "/usr/local/lib/python3.6/dist-packages/ipykernel_launcher.py:19: RuntimeWarning: overflow encountered in exp\n",
            "/usr/local/lib/python3.6/dist-packages/ipykernel_launcher.py:19: RuntimeWarning: overflow encountered in exp\n",
            "/usr/local/lib/python3.6/dist-packages/ipykernel_launcher.py:19: RuntimeWarning: overflow encountered in exp\n",
            "/usr/local/lib/python3.6/dist-packages/ipykernel_launcher.py:19: RuntimeWarning: overflow encountered in exp\n",
            "/usr/local/lib/python3.6/dist-packages/ipykernel_launcher.py:19: RuntimeWarning: overflow encountered in exp\n",
            "/usr/local/lib/python3.6/dist-packages/ipykernel_launcher.py:19: RuntimeWarning: overflow encountered in exp\n"
          ],
          "name": "stderr"
        },
        {
          "output_type": "stream",
          "text": [
            "At batch 400, the accuracy is 0.9642857142857143\n",
            "At batch 401, the accuracy is 0.9642857142857143\n",
            "At batch 402, the accuracy is 0.9732142857142857\n",
            "At batch 403, the accuracy is 0.9642857142857143\n",
            "At batch 404, the accuracy is 0.9642857142857143\n"
          ],
          "name": "stdout"
        },
        {
          "output_type": "stream",
          "text": [
            "/usr/local/lib/python3.6/dist-packages/ipykernel_launcher.py:19: RuntimeWarning: overflow encountered in exp\n",
            "/usr/local/lib/python3.6/dist-packages/ipykernel_launcher.py:19: RuntimeWarning: overflow encountered in exp\n",
            "/usr/local/lib/python3.6/dist-packages/ipykernel_launcher.py:19: RuntimeWarning: overflow encountered in exp\n",
            "/usr/local/lib/python3.6/dist-packages/ipykernel_launcher.py:19: RuntimeWarning: overflow encountered in exp\n",
            "/usr/local/lib/python3.6/dist-packages/ipykernel_launcher.py:19: RuntimeWarning: overflow encountered in exp\n",
            "/usr/local/lib/python3.6/dist-packages/ipykernel_launcher.py:19: RuntimeWarning: overflow encountered in exp\n"
          ],
          "name": "stderr"
        },
        {
          "output_type": "stream",
          "text": [
            "At batch 405, the accuracy is 0.9642857142857143\n",
            "At batch 406, the accuracy is 0.9642857142857143\n",
            "At batch 407, the accuracy is 0.9642857142857143\n",
            "At batch 408, the accuracy is 0.9642857142857143\n",
            "At batch 409, the accuracy is 0.9642857142857143\n"
          ],
          "name": "stdout"
        },
        {
          "output_type": "stream",
          "text": [
            "/usr/local/lib/python3.6/dist-packages/ipykernel_launcher.py:19: RuntimeWarning: overflow encountered in exp\n",
            "/usr/local/lib/python3.6/dist-packages/ipykernel_launcher.py:19: RuntimeWarning: overflow encountered in exp\n",
            "/usr/local/lib/python3.6/dist-packages/ipykernel_launcher.py:19: RuntimeWarning: overflow encountered in exp\n",
            "/usr/local/lib/python3.6/dist-packages/ipykernel_launcher.py:19: RuntimeWarning: overflow encountered in exp\n",
            "/usr/local/lib/python3.6/dist-packages/ipykernel_launcher.py:19: RuntimeWarning: overflow encountered in exp\n",
            "/usr/local/lib/python3.6/dist-packages/ipykernel_launcher.py:19: RuntimeWarning: overflow encountered in exp\n",
            "/usr/local/lib/python3.6/dist-packages/ipykernel_launcher.py:19: RuntimeWarning: overflow encountered in exp\n"
          ],
          "name": "stderr"
        },
        {
          "output_type": "stream",
          "text": [
            "At batch 410, the accuracy is 0.9642857142857143\n",
            "At batch 411, the accuracy is 0.9732142857142857\n",
            "At batch 412, the accuracy is 0.9732142857142857\n",
            "At batch 413, the accuracy is 0.9732142857142857\n",
            "At batch 414, the accuracy is 0.9732142857142857\n",
            "At batch 415, the accuracy is 0.9732142857142857\n",
            "At batch 416, the accuracy is 0.9642857142857143\n",
            "At batch 417, the accuracy is 0.9642857142857143\n",
            "At batch 418, the accuracy is 0.9642857142857143\n",
            "At batch 419, the accuracy is 0.9642857142857143\n"
          ],
          "name": "stdout"
        },
        {
          "output_type": "stream",
          "text": [
            "/usr/local/lib/python3.6/dist-packages/ipykernel_launcher.py:19: RuntimeWarning: overflow encountered in exp\n",
            "/usr/local/lib/python3.6/dist-packages/ipykernel_launcher.py:19: RuntimeWarning: overflow encountered in exp\n",
            "/usr/local/lib/python3.6/dist-packages/ipykernel_launcher.py:19: RuntimeWarning: overflow encountered in exp\n"
          ],
          "name": "stderr"
        },
        {
          "output_type": "stream",
          "text": [
            "At batch 420, the accuracy is 0.9642857142857143\n",
            "At batch 421, the accuracy is 0.9642857142857143\n",
            "At batch 422, the accuracy is 0.9732142857142857\n",
            "At batch 423, the accuracy is 0.9732142857142857\n",
            "At batch 424, the accuracy is 0.9732142857142857\n"
          ],
          "name": "stdout"
        },
        {
          "output_type": "stream",
          "text": [
            "/usr/local/lib/python3.6/dist-packages/ipykernel_launcher.py:19: RuntimeWarning: overflow encountered in exp\n",
            "/usr/local/lib/python3.6/dist-packages/ipykernel_launcher.py:19: RuntimeWarning: overflow encountered in exp\n",
            "/usr/local/lib/python3.6/dist-packages/ipykernel_launcher.py:19: RuntimeWarning: overflow encountered in exp\n",
            "/usr/local/lib/python3.6/dist-packages/ipykernel_launcher.py:19: RuntimeWarning: overflow encountered in exp\n",
            "/usr/local/lib/python3.6/dist-packages/ipykernel_launcher.py:19: RuntimeWarning: overflow encountered in exp\n",
            "/usr/local/lib/python3.6/dist-packages/ipykernel_launcher.py:19: RuntimeWarning: overflow encountered in exp\n",
            "/usr/local/lib/python3.6/dist-packages/ipykernel_launcher.py:19: RuntimeWarning: overflow encountered in exp\n",
            "/usr/local/lib/python3.6/dist-packages/ipykernel_launcher.py:19: RuntimeWarning: overflow encountered in exp\n"
          ],
          "name": "stderr"
        },
        {
          "output_type": "stream",
          "text": [
            "At batch 425, the accuracy is 0.9732142857142857\n",
            "At batch 426, the accuracy is 0.9732142857142857\n",
            "At batch 427, the accuracy is 0.9732142857142857\n",
            "At batch 428, the accuracy is 0.9732142857142857\n",
            "At batch 429, the accuracy is 0.9732142857142857\n"
          ],
          "name": "stdout"
        },
        {
          "output_type": "stream",
          "text": [
            "/usr/local/lib/python3.6/dist-packages/ipykernel_launcher.py:19: RuntimeWarning: overflow encountered in exp\n",
            "/usr/local/lib/python3.6/dist-packages/ipykernel_launcher.py:19: RuntimeWarning: overflow encountered in exp\n",
            "/usr/local/lib/python3.6/dist-packages/ipykernel_launcher.py:19: RuntimeWarning: overflow encountered in exp\n"
          ],
          "name": "stderr"
        },
        {
          "output_type": "stream",
          "text": [
            "At batch 430, the accuracy is 0.9732142857142857\n",
            "At batch 431, the accuracy is 0.9642857142857143\n",
            "At batch 432, the accuracy is 0.9642857142857143\n",
            "At batch 433, the accuracy is 0.9642857142857143\n",
            "At batch 434, the accuracy is 0.9642857142857143\n"
          ],
          "name": "stdout"
        },
        {
          "output_type": "stream",
          "text": [
            "/usr/local/lib/python3.6/dist-packages/ipykernel_launcher.py:19: RuntimeWarning: overflow encountered in exp\n"
          ],
          "name": "stderr"
        },
        {
          "output_type": "stream",
          "text": [
            "At batch 435, the accuracy is 0.9642857142857143\n",
            "At batch 436, the accuracy is 0.9642857142857143\n",
            "At batch 437, the accuracy is 0.9642857142857143\n",
            "At batch 438, the accuracy is 0.9642857142857143\n",
            "At batch 439, the accuracy is 0.9642857142857143\n",
            "At batch 440, the accuracy is 0.9642857142857143\n",
            "At batch 441, the accuracy is 0.9642857142857143\n",
            "At batch 442, the accuracy is 0.9642857142857143\n",
            "At batch 443, the accuracy is 0.9642857142857143\n",
            "At batch 444, the accuracy is 0.9642857142857143\n"
          ],
          "name": "stdout"
        },
        {
          "output_type": "stream",
          "text": [
            "/usr/local/lib/python3.6/dist-packages/ipykernel_launcher.py:19: RuntimeWarning: overflow encountered in exp\n",
            "/usr/local/lib/python3.6/dist-packages/ipykernel_launcher.py:19: RuntimeWarning: overflow encountered in exp\n",
            "/usr/local/lib/python3.6/dist-packages/ipykernel_launcher.py:19: RuntimeWarning: overflow encountered in exp\n",
            "/usr/local/lib/python3.6/dist-packages/ipykernel_launcher.py:19: RuntimeWarning: overflow encountered in exp\n",
            "/usr/local/lib/python3.6/dist-packages/ipykernel_launcher.py:19: RuntimeWarning: overflow encountered in exp\n"
          ],
          "name": "stderr"
        },
        {
          "output_type": "stream",
          "text": [
            "At batch 445, the accuracy is 0.9642857142857143\n",
            "At batch 446, the accuracy is 0.9642857142857143\n",
            "At batch 447, the accuracy is 0.9642857142857143\n",
            "At batch 448, the accuracy is 0.9642857142857143\n",
            "At batch 449, the accuracy is 0.9642857142857143\n",
            "At batch 450, the accuracy is 0.9642857142857143\n",
            "At batch 451, the accuracy is 0.9642857142857143\n",
            "At batch 452, the accuracy is 0.9732142857142857\n",
            "At batch 453, the accuracy is 0.9732142857142857\n",
            "At batch 454, the accuracy is 0.9732142857142857\n"
          ],
          "name": "stdout"
        },
        {
          "output_type": "stream",
          "text": [
            "/usr/local/lib/python3.6/dist-packages/ipykernel_launcher.py:19: RuntimeWarning: overflow encountered in exp\n",
            "/usr/local/lib/python3.6/dist-packages/ipykernel_launcher.py:19: RuntimeWarning: overflow encountered in exp\n",
            "/usr/local/lib/python3.6/dist-packages/ipykernel_launcher.py:19: RuntimeWarning: overflow encountered in exp\n",
            "/usr/local/lib/python3.6/dist-packages/ipykernel_launcher.py:19: RuntimeWarning: overflow encountered in exp\n",
            "/usr/local/lib/python3.6/dist-packages/ipykernel_launcher.py:19: RuntimeWarning: overflow encountered in exp\n"
          ],
          "name": "stderr"
        },
        {
          "output_type": "stream",
          "text": [
            "At batch 455, the accuracy is 0.9732142857142857\n",
            "At batch 456, the accuracy is 0.9732142857142857\n",
            "At batch 457, the accuracy is 0.9732142857142857\n",
            "At batch 458, the accuracy is 0.9732142857142857\n",
            "At batch 459, the accuracy is 0.9732142857142857\n"
          ],
          "name": "stdout"
        },
        {
          "output_type": "stream",
          "text": [
            "/usr/local/lib/python3.6/dist-packages/ipykernel_launcher.py:19: RuntimeWarning: overflow encountered in exp\n",
            "/usr/local/lib/python3.6/dist-packages/ipykernel_launcher.py:19: RuntimeWarning: overflow encountered in exp\n",
            "/usr/local/lib/python3.6/dist-packages/ipykernel_launcher.py:19: RuntimeWarning: overflow encountered in exp\n"
          ],
          "name": "stderr"
        },
        {
          "output_type": "stream",
          "text": [
            "At batch 460, the accuracy is 0.9732142857142857\n",
            "At batch 461, the accuracy is 0.9732142857142857\n",
            "At batch 462, the accuracy is 0.9732142857142857\n",
            "At batch 463, the accuracy is 0.9732142857142857\n",
            "At batch 464, the accuracy is 0.9732142857142857\n"
          ],
          "name": "stdout"
        },
        {
          "output_type": "stream",
          "text": [
            "/usr/local/lib/python3.6/dist-packages/ipykernel_launcher.py:19: RuntimeWarning: overflow encountered in exp\n",
            "/usr/local/lib/python3.6/dist-packages/ipykernel_launcher.py:19: RuntimeWarning: overflow encountered in exp\n",
            "/usr/local/lib/python3.6/dist-packages/ipykernel_launcher.py:19: RuntimeWarning: overflow encountered in exp\n",
            "/usr/local/lib/python3.6/dist-packages/ipykernel_launcher.py:19: RuntimeWarning: overflow encountered in exp\n"
          ],
          "name": "stderr"
        },
        {
          "output_type": "stream",
          "text": [
            "At batch 465, the accuracy is 0.9732142857142857\n",
            "At batch 466, the accuracy is 0.9732142857142857\n",
            "At batch 467, the accuracy is 0.9732142857142857\n",
            "At batch 468, the accuracy is 0.9732142857142857\n",
            "At batch 469, the accuracy is 0.9732142857142857\n"
          ],
          "name": "stdout"
        },
        {
          "output_type": "stream",
          "text": [
            "/usr/local/lib/python3.6/dist-packages/ipykernel_launcher.py:19: RuntimeWarning: overflow encountered in exp\n",
            "/usr/local/lib/python3.6/dist-packages/ipykernel_launcher.py:19: RuntimeWarning: overflow encountered in exp\n",
            "/usr/local/lib/python3.6/dist-packages/ipykernel_launcher.py:19: RuntimeWarning: overflow encountered in exp\n",
            "/usr/local/lib/python3.6/dist-packages/ipykernel_launcher.py:19: RuntimeWarning: overflow encountered in exp\n",
            "/usr/local/lib/python3.6/dist-packages/ipykernel_launcher.py:19: RuntimeWarning: overflow encountered in exp\n"
          ],
          "name": "stderr"
        },
        {
          "output_type": "stream",
          "text": [
            "At batch 470, the accuracy is 0.9732142857142857\n",
            "At batch 471, the accuracy is 0.9732142857142857\n",
            "At batch 472, the accuracy is 0.9732142857142857\n",
            "At batch 473, the accuracy is 0.9732142857142857\n",
            "At batch 474, the accuracy is 0.9732142857142857\n"
          ],
          "name": "stdout"
        },
        {
          "output_type": "stream",
          "text": [
            "/usr/local/lib/python3.6/dist-packages/ipykernel_launcher.py:19: RuntimeWarning: overflow encountered in exp\n",
            "/usr/local/lib/python3.6/dist-packages/ipykernel_launcher.py:19: RuntimeWarning: overflow encountered in exp\n",
            "/usr/local/lib/python3.6/dist-packages/ipykernel_launcher.py:19: RuntimeWarning: overflow encountered in exp\n",
            "/usr/local/lib/python3.6/dist-packages/ipykernel_launcher.py:19: RuntimeWarning: overflow encountered in exp\n"
          ],
          "name": "stderr"
        },
        {
          "output_type": "stream",
          "text": [
            "At batch 475, the accuracy is 0.9732142857142857\n",
            "At batch 476, the accuracy is 0.9732142857142857\n",
            "At batch 477, the accuracy is 0.9732142857142857\n",
            "At batch 478, the accuracy is 0.9732142857142857\n",
            "At batch 479, the accuracy is 0.9732142857142857\n"
          ],
          "name": "stdout"
        },
        {
          "output_type": "stream",
          "text": [
            "/usr/local/lib/python3.6/dist-packages/ipykernel_launcher.py:19: RuntimeWarning: overflow encountered in exp\n",
            "/usr/local/lib/python3.6/dist-packages/ipykernel_launcher.py:19: RuntimeWarning: overflow encountered in exp\n"
          ],
          "name": "stderr"
        },
        {
          "output_type": "stream",
          "text": [
            "At batch 480, the accuracy is 0.9732142857142857\n",
            "At batch 481, the accuracy is 0.9732142857142857\n",
            "At batch 482, the accuracy is 0.9732142857142857\n",
            "At batch 483, the accuracy is 0.9732142857142857\n",
            "At batch 484, the accuracy is 0.9732142857142857\n"
          ],
          "name": "stdout"
        },
        {
          "output_type": "stream",
          "text": [
            "/usr/local/lib/python3.6/dist-packages/ipykernel_launcher.py:19: RuntimeWarning: overflow encountered in exp\n",
            "/usr/local/lib/python3.6/dist-packages/ipykernel_launcher.py:19: RuntimeWarning: overflow encountered in exp\n"
          ],
          "name": "stderr"
        },
        {
          "output_type": "stream",
          "text": [
            "At batch 485, the accuracy is 0.9732142857142857\n",
            "At batch 486, the accuracy is 0.9732142857142857\n",
            "At batch 487, the accuracy is 0.9642857142857143\n",
            "At batch 488, the accuracy is 0.9732142857142857\n",
            "At batch 489, the accuracy is 0.9732142857142857\n",
            "At batch 490, the accuracy is 0.9732142857142857\n",
            "At batch 491, the accuracy is 0.9732142857142857\n",
            "At batch 492, the accuracy is 0.9732142857142857\n",
            "At batch 493, the accuracy is 0.9732142857142857\n",
            "At batch 494, the accuracy is 0.9732142857142857\n"
          ],
          "name": "stdout"
        },
        {
          "output_type": "stream",
          "text": [
            "/usr/local/lib/python3.6/dist-packages/ipykernel_launcher.py:19: RuntimeWarning: overflow encountered in exp\n",
            "/usr/local/lib/python3.6/dist-packages/ipykernel_launcher.py:19: RuntimeWarning: overflow encountered in exp\n",
            "/usr/local/lib/python3.6/dist-packages/ipykernel_launcher.py:19: RuntimeWarning: overflow encountered in exp\n",
            "/usr/local/lib/python3.6/dist-packages/ipykernel_launcher.py:19: RuntimeWarning: overflow encountered in exp\n"
          ],
          "name": "stderr"
        },
        {
          "output_type": "stream",
          "text": [
            "At batch 495, the accuracy is 0.9732142857142857\n",
            "At batch 496, the accuracy is 0.9732142857142857\n",
            "At batch 497, the accuracy is 0.9732142857142857\n",
            "At batch 498, the accuracy is 0.9732142857142857\n",
            "At batch 499, the accuracy is 0.9732142857142857\n"
          ],
          "name": "stdout"
        },
        {
          "output_type": "stream",
          "text": [
            "/usr/local/lib/python3.6/dist-packages/ipykernel_launcher.py:19: RuntimeWarning: overflow encountered in exp\n"
          ],
          "name": "stderr"
        },
        {
          "output_type": "stream",
          "text": [
            "At batch 500, the accuracy is 0.9732142857142857\n",
            "The final accuracy on eval set is: 0.9736842105263158\n"
          ],
          "name": "stdout"
        },
        {
          "output_type": "display_data",
          "data": {
            "image/png": "[encoded data removed]",
            "text/plain": [
              "<Figure size 432x288 with 1 Axes>"
            ]
          },
          "metadata": {
            "tags": []
          }
        }
      ]
    }
  ]
}